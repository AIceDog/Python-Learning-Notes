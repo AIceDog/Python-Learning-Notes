{
  "nbformat": 4,
  "nbformat_minor": 0,
  "metadata": {
    "colab": {
      "provenance": [],
      "collapsed_sections": [],
      "authorship_tag": "ABX9TyOBAW0LSm7oRpBnqJvMRnlH",
      "include_colab_link": true
    },
    "kernelspec": {
      "name": "python3",
      "display_name": "Python 3"
    },
    "language_info": {
      "name": "python"
    }
  },
  "cells": [
    {
      "cell_type": "markdown",
      "metadata": {
        "id": "view-in-github",
        "colab_type": "text"
      },
      "source": [
        "<a href=\"https://colab.research.google.com/github/AIceDog/Python-Learning-Notes/blob/master/yield.ipynb\" target=\"_parent\"><img src=\"https://colab.research.google.com/assets/colab-badge.svg\" alt=\"Open In Colab\"/></a>"
      ]
    },
    {
      "cell_type": "code",
      "source": [
        "import numpy as np\n",
        "import math"
      ],
      "metadata": {
        "id": "rkpoylQ8tWXq"
      },
      "execution_count": 14,
      "outputs": []
    },
    {
      "cell_type": "code",
      "execution_count": 37,
      "metadata": {
        "id": "G-Ke41vssOfy"
      },
      "outputs": [],
      "source": [
        "def generator():\n",
        "  _a = np.arange(0, 28)\n",
        "  _b = np.arange(100, 128)\n",
        "  _c = np.arange(200, 228)\n",
        "  _d = np.arange(300, 328)\n",
        "\n",
        "  pairs = list(zip(_a, _b, _c, _d)) # len(pairs) == 28\n",
        "  enabled = True\n",
        "\n",
        "  batch_size = 5\n",
        "  num_batches = math.ceil(len(pairs) / 5) # 将 28 分为若干份，每份包含 5 个元素（最后一份除外）,math.ceil(28 / 5) == 6\n",
        " \n",
        "  while enabled:\n",
        "    start_idx, _pairs = 0, pairs\n",
        "    for b_i in range(start_idx, num_batches):\n",
        "      # print('b_i : ', b_i)\n",
        "      chunks = _pairs[b_i * batch_size : (b_i + 1) * batch_size]\n",
        "      # print('len(chunks) : ', len(chunks), '\\n')\n",
        "\n",
        "      yield chunks\n",
        "\n",
        "    enabled = False"
      ]
    },
    {
      "cell_type": "code",
      "source": [
        "generator()"
      ],
      "metadata": {
        "colab": {
          "base_uri": "https://localhost:8080/"
        },
        "id": "N7Rm3RK0s3-S",
        "outputId": "de715f27-34f2-4546-a64d-ab10c3ddc1ad"
      },
      "execution_count": 38,
      "outputs": [
        {
          "output_type": "execute_result",
          "data": {
            "text/plain": [
              "<generator object generator at 0x7f4bf2c15cd0>"
            ]
          },
          "metadata": {},
          "execution_count": 38
        }
      ]
    },
    {
      "cell_type": "markdown",
      "source": [
        "Test1"
      ],
      "metadata": {
        "id": "VcC3KyP17WiZ"
      }
    },
    {
      "cell_type": "code",
      "source": [
        "gen = generator()\n",
        "\n",
        "for i in range(6):\n",
        "  chunk = next(gen)\n",
        "  print(chunk, '\\n')"
      ],
      "metadata": {
        "colab": {
          "base_uri": "https://localhost:8080/"
        },
        "id": "kGB91MK06Mg1",
        "outputId": "029c38e6-88ab-4d94-da95-83833ef789d5"
      },
      "execution_count": 43,
      "outputs": [
        {
          "output_type": "stream",
          "name": "stdout",
          "text": [
            "[(0, 100, 200, 300), (1, 101, 201, 301), (2, 102, 202, 302), (3, 103, 203, 303), (4, 104, 204, 304)] \n",
            "\n",
            "[(5, 105, 205, 305), (6, 106, 206, 306), (7, 107, 207, 307), (8, 108, 208, 308), (9, 109, 209, 309)] \n",
            "\n",
            "[(10, 110, 210, 310), (11, 111, 211, 311), (12, 112, 212, 312), (13, 113, 213, 313), (14, 114, 214, 314)] \n",
            "\n",
            "[(15, 115, 215, 315), (16, 116, 216, 316), (17, 117, 217, 317), (18, 118, 218, 318), (19, 119, 219, 319)] \n",
            "\n",
            "[(20, 120, 220, 320), (21, 121, 221, 321), (22, 122, 222, 322), (23, 123, 223, 323), (24, 124, 224, 324)] \n",
            "\n",
            "[(25, 125, 225, 325), (26, 126, 226, 326), (27, 127, 227, 327)] \n",
            "\n"
          ]
        }
      ]
    },
    {
      "cell_type": "markdown",
      "source": [
        "Test2"
      ],
      "metadata": {
        "id": "tkoXYyt68HqG"
      }
    },
    {
      "cell_type": "code",
      "source": [
        "gen = generator()\n",
        "\n",
        "for i in gen:\n",
        "  print(i, '\\n')"
      ],
      "metadata": {
        "colab": {
          "base_uri": "https://localhost:8080/"
        },
        "id": "CRcbpc768JGi",
        "outputId": "0651a0f5-f326-4469-9e61-27278a0993ba"
      },
      "execution_count": 55,
      "outputs": [
        {
          "output_type": "stream",
          "name": "stdout",
          "text": [
            "[(0, 100, 200, 300), (1, 101, 201, 301), (2, 102, 202, 302), (3, 103, 203, 303), (4, 104, 204, 304)] \n",
            "\n",
            "[(5, 105, 205, 305), (6, 106, 206, 306), (7, 107, 207, 307), (8, 108, 208, 308), (9, 109, 209, 309)] \n",
            "\n",
            "[(10, 110, 210, 310), (11, 111, 211, 311), (12, 112, 212, 312), (13, 113, 213, 313), (14, 114, 214, 314)] \n",
            "\n",
            "[(15, 115, 215, 315), (16, 116, 216, 316), (17, 117, 217, 317), (18, 118, 218, 318), (19, 119, 219, 319)] \n",
            "\n",
            "[(20, 120, 220, 320), (21, 121, 221, 321), (22, 122, 222, 322), (23, 123, 223, 323), (24, 124, 224, 324)] \n",
            "\n",
            "[(25, 125, 225, 325), (26, 126, 226, 326), (27, 127, 227, 327)] \n",
            "\n"
          ]
        }
      ]
    },
    {
      "cell_type": "markdown",
      "source": [
        "Test3"
      ],
      "metadata": {
        "id": "X6HPK1oG8h5c"
      }
    },
    {
      "cell_type": "code",
      "source": [
        "for i in generator():\n",
        "  print(i, '\\n')"
      ],
      "metadata": {
        "colab": {
          "base_uri": "https://localhost:8080/"
        },
        "id": "hY_vUnrx8gaG",
        "outputId": "73fa0d8d-1c47-4ed4-99f4-bf91922be9ea"
      },
      "execution_count": 56,
      "outputs": [
        {
          "output_type": "stream",
          "name": "stdout",
          "text": [
            "[(0, 100, 200, 300), (1, 101, 201, 301), (2, 102, 202, 302), (3, 103, 203, 303), (4, 104, 204, 304)] \n",
            "\n",
            "[(5, 105, 205, 305), (6, 106, 206, 306), (7, 107, 207, 307), (8, 108, 208, 308), (9, 109, 209, 309)] \n",
            "\n",
            "[(10, 110, 210, 310), (11, 111, 211, 311), (12, 112, 212, 312), (13, 113, 213, 313), (14, 114, 214, 314)] \n",
            "\n",
            "[(15, 115, 215, 315), (16, 116, 216, 316), (17, 117, 217, 317), (18, 118, 218, 318), (19, 119, 219, 319)] \n",
            "\n",
            "[(20, 120, 220, 320), (21, 121, 221, 321), (22, 122, 222, 322), (23, 123, 223, 323), (24, 124, 224, 324)] \n",
            "\n",
            "[(25, 125, 225, 325), (26, 126, 226, 326), (27, 127, 227, 327)] \n",
            "\n"
          ]
        }
      ]
    },
    {
      "cell_type": "markdown",
      "source": [
        "Test4"
      ],
      "metadata": {
        "id": "T-GzCNZE7T-G"
      }
    },
    {
      "cell_type": "code",
      "source": [
        "gen = generator()"
      ],
      "metadata": {
        "id": "BUxzcCfp6MjP"
      },
      "execution_count": 47,
      "outputs": []
    },
    {
      "cell_type": "code",
      "source": [
        "res1 = next(gen)\n",
        "print(res1)"
      ],
      "metadata": {
        "colab": {
          "base_uri": "https://localhost:8080/"
        },
        "id": "A79K4EZg6Mlf",
        "outputId": "ddbdb5ea-2634-4bd1-ade9-91243445a2bf"
      },
      "execution_count": 48,
      "outputs": [
        {
          "output_type": "stream",
          "name": "stdout",
          "text": [
            "[(0, 100, 200, 300), (1, 101, 201, 301), (2, 102, 202, 302), (3, 103, 203, 303), (4, 104, 204, 304)]\n"
          ]
        }
      ]
    },
    {
      "cell_type": "code",
      "source": [
        "res2 = next(gen)\n",
        "print(res2)"
      ],
      "metadata": {
        "colab": {
          "base_uri": "https://localhost:8080/"
        },
        "id": "X5FbiNUU6Mnh",
        "outputId": "34909fc7-e689-44b7-97c4-a10b3f4cdbfa"
      },
      "execution_count": 49,
      "outputs": [
        {
          "output_type": "stream",
          "name": "stdout",
          "text": [
            "[(5, 105, 205, 305), (6, 106, 206, 306), (7, 107, 207, 307), (8, 108, 208, 308), (9, 109, 209, 309)]\n"
          ]
        }
      ]
    },
    {
      "cell_type": "code",
      "source": [
        "res3 = next(gen)\n",
        "print(res3)"
      ],
      "metadata": {
        "colab": {
          "base_uri": "https://localhost:8080/"
        },
        "id": "e7-K1Yo46Mpn",
        "outputId": "80775df3-21cf-4749-ecfc-e3ff032fb793"
      },
      "execution_count": 50,
      "outputs": [
        {
          "output_type": "stream",
          "name": "stdout",
          "text": [
            "[(10, 110, 210, 310), (11, 111, 211, 311), (12, 112, 212, 312), (13, 113, 213, 313), (14, 114, 214, 314)]\n"
          ]
        }
      ]
    },
    {
      "cell_type": "code",
      "source": [
        "res4 = next(gen)\n",
        "print(res4)"
      ],
      "metadata": {
        "colab": {
          "base_uri": "https://localhost:8080/"
        },
        "id": "DZKRMdLC6Mrh",
        "outputId": "38cbdd6b-f4e7-49d4-efe7-6a30d23b7644"
      },
      "execution_count": 51,
      "outputs": [
        {
          "output_type": "stream",
          "name": "stdout",
          "text": [
            "[(15, 115, 215, 315), (16, 116, 216, 316), (17, 117, 217, 317), (18, 118, 218, 318), (19, 119, 219, 319)]\n"
          ]
        }
      ]
    },
    {
      "cell_type": "code",
      "source": [
        "res5 = next(gen)\n",
        "print(res5)"
      ],
      "metadata": {
        "colab": {
          "base_uri": "https://localhost:8080/"
        },
        "id": "SPwArhRc7qMX",
        "outputId": "2506cef1-4032-4839-f9e6-7b3696d992db"
      },
      "execution_count": 52,
      "outputs": [
        {
          "output_type": "stream",
          "name": "stdout",
          "text": [
            "[(20, 120, 220, 320), (21, 121, 221, 321), (22, 122, 222, 322), (23, 123, 223, 323), (24, 124, 224, 324)]\n"
          ]
        }
      ]
    },
    {
      "cell_type": "code",
      "source": [
        "res6 = next(gen)\n",
        "print(res6)"
      ],
      "metadata": {
        "colab": {
          "base_uri": "https://localhost:8080/"
        },
        "id": "ikUMPK-X7qKE",
        "outputId": "4f32db3a-5cb6-4653-ab49-728b6860d85e"
      },
      "execution_count": 53,
      "outputs": [
        {
          "output_type": "stream",
          "name": "stdout",
          "text": [
            "[(25, 125, 225, 325), (26, 126, 226, 326), (27, 127, 227, 327)]\n"
          ]
        }
      ]
    },
    {
      "cell_type": "code",
      "source": [
        "res7 = next(gen)\n",
        "print(res7)"
      ],
      "metadata": {
        "colab": {
          "base_uri": "https://localhost:8080/",
          "height": 188
        },
        "id": "dg11F4fh7qH2",
        "outputId": "8cca2f30-f677-41dd-9cb9-2655d8d637c7"
      },
      "execution_count": 54,
      "outputs": [
        {
          "output_type": "error",
          "ename": "StopIteration",
          "evalue": "ignored",
          "traceback": [
            "\u001b[0;31m---------------------------------------------------------------------------\u001b[0m",
            "\u001b[0;31mStopIteration\u001b[0m                             Traceback (most recent call last)",
            "\u001b[0;32m<ipython-input-54-540bba586850>\u001b[0m in \u001b[0;36m<module>\u001b[0;34m\u001b[0m\n\u001b[0;32m----> 1\u001b[0;31m \u001b[0mres7\u001b[0m \u001b[0;34m=\u001b[0m \u001b[0mnext\u001b[0m\u001b[0;34m(\u001b[0m\u001b[0mgen\u001b[0m\u001b[0;34m)\u001b[0m\u001b[0;34m\u001b[0m\u001b[0;34m\u001b[0m\u001b[0m\n\u001b[0m\u001b[1;32m      2\u001b[0m \u001b[0mprint\u001b[0m\u001b[0;34m(\u001b[0m\u001b[0mres7\u001b[0m\u001b[0;34m)\u001b[0m\u001b[0;34m\u001b[0m\u001b[0;34m\u001b[0m\u001b[0m\n",
            "\u001b[0;31mStopIteration\u001b[0m: "
          ]
        }
      ]
    },
    {
      "cell_type": "markdown",
      "source": [
        "Other Tests:"
      ],
      "metadata": {
        "id": "l2PoEI5d8vUX"
      }
    },
    {
      "cell_type": "code",
      "source": [
        "np.arange(0, 28)"
      ],
      "metadata": {
        "colab": {
          "base_uri": "https://localhost:8080/"
        },
        "id": "aN2nG9DEtOVy",
        "outputId": "dd17db10-56d7-4a28-b668-5a191cd855e4"
      },
      "execution_count": 7,
      "outputs": [
        {
          "output_type": "execute_result",
          "data": {
            "text/plain": [
              "array([ 0,  1,  2,  3,  4,  5,  6,  7,  8,  9, 10, 11, 12, 13, 14, 15, 16,\n",
              "       17, 18, 19, 20, 21, 22, 23, 24, 25, 26, 27])"
            ]
          },
          "metadata": {},
          "execution_count": 7
        }
      ]
    },
    {
      "cell_type": "code",
      "source": [
        "_a = np.arange(0, 28)\n",
        "_b = np.arange(100, 128)\n",
        "_c = np.arange(200, 228)\n",
        "_d = np.arange(300, 328)\n",
        "\n",
        "pairs = zip(_a, _b, _c, _d)"
      ],
      "metadata": {
        "id": "v9hbjkHmtod1"
      },
      "execution_count": 12,
      "outputs": []
    },
    {
      "cell_type": "code",
      "source": [
        "list(pairs)"
      ],
      "metadata": {
        "colab": {
          "base_uri": "https://localhost:8080/"
        },
        "id": "cn4vVveguOfW",
        "outputId": "2b3cbea6-5e03-44a5-9966-7257f45b5be8"
      },
      "execution_count": 13,
      "outputs": [
        {
          "output_type": "execute_result",
          "data": {
            "text/plain": [
              "[(0, 100, 200, 300),\n",
              " (1, 101, 201, 301),\n",
              " (2, 102, 202, 302),\n",
              " (3, 103, 203, 303),\n",
              " (4, 104, 204, 304),\n",
              " (5, 105, 205, 305),\n",
              " (6, 106, 206, 306),\n",
              " (7, 107, 207, 307),\n",
              " (8, 108, 208, 308),\n",
              " (9, 109, 209, 309),\n",
              " (10, 110, 210, 310),\n",
              " (11, 111, 211, 311),\n",
              " (12, 112, 212, 312),\n",
              " (13, 113, 213, 313),\n",
              " (14, 114, 214, 314),\n",
              " (15, 115, 215, 315),\n",
              " (16, 116, 216, 316),\n",
              " (17, 117, 217, 317),\n",
              " (18, 118, 218, 318),\n",
              " (19, 119, 219, 319),\n",
              " (20, 120, 220, 320),\n",
              " (21, 121, 221, 321),\n",
              " (22, 122, 222, 322),\n",
              " (23, 123, 223, 323),\n",
              " (24, 124, 224, 324),\n",
              " (25, 125, 225, 325),\n",
              " (26, 126, 226, 326),\n",
              " (27, 127, 227, 327)]"
            ]
          },
          "metadata": {},
          "execution_count": 13
        }
      ]
    }
  ]
}