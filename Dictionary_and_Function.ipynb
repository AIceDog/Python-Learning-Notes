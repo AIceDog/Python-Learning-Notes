{
  "nbformat": 4,
  "nbformat_minor": 0,
  "metadata": {
    "colab": {
      "name": "Dictionary and Function.ipynb",
      "provenance": [],
      "collapsed_sections": [],
      "authorship_tag": "ABX9TyOeZs8c2XikcrbNltFO9PE2",
      "include_colab_link": true
    },
    "kernelspec": {
      "name": "python3",
      "display_name": "Python 3"
    },
    "language_info": {
      "name": "python"
    }
  },
  "cells": [
    {
      "cell_type": "markdown",
      "metadata": {
        "id": "view-in-github",
        "colab_type": "text"
      },
      "source": [
        "<a href=\"https://colab.research.google.com/github/AIceDog/Python-Learning-Notes/blob/master/Dictionary_and_Function.ipynb\" target=\"_parent\"><img src=\"https://colab.research.google.com/assets/colab-badge.svg\" alt=\"Open In Colab\"/></a>"
      ]
    },
    {
      "cell_type": "code",
      "execution_count": 1,
      "metadata": {
        "id": "1fS-CGCxdo6i"
      },
      "outputs": [],
      "source": [
        "def function3(d):\n",
        "  d[2] = 200\n",
        "\n",
        "def function2(d):\n",
        "  d[1] = 100\n",
        "  function3(d)\n",
        "\n",
        "def function1():\n",
        "  d = {} # dictionary can be change inside other functions\n",
        "  function2(d)\n",
        "  print(d)"
      ]
    },
    {
      "cell_type": "code",
      "source": [
        "function1()"
      ],
      "metadata": {
        "colab": {
          "base_uri": "https://localhost:8080/"
        },
        "id": "g-rMIny1duPi",
        "outputId": "d6e665c3-7a30-49be-ef22-80a6dbe96fc1"
      },
      "execution_count": 2,
      "outputs": [
        {
          "output_type": "stream",
          "name": "stdout",
          "text": [
            "{1: 100, 2: 200}\n"
          ]
        }
      ]
    }
  ]
}