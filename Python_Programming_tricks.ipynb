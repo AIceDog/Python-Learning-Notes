{
  "nbformat": 4,
  "nbformat_minor": 0,
  "metadata": {
    "colab": {
      "name": "Python Programming tricks.ipynb",
      "provenance": [],
      "authorship_tag": "ABX9TyO4WnOv/RtqhkAZrvS4qNtf",
      "include_colab_link": true
    },
    "kernelspec": {
      "name": "python3",
      "display_name": "Python 3"
    },
    "language_info": {
      "name": "python"
    }
  },
  "cells": [
    {
      "cell_type": "markdown",
      "metadata": {
        "id": "view-in-github",
        "colab_type": "text"
      },
      "source": [
        "<a href=\"https://colab.research.google.com/github/AIceDog/Python-Learning-Notes/blob/master/Python_Programming_tricks.ipynb\" target=\"_parent\"><img src=\"https://colab.research.google.com/assets/colab-badge.svg\" alt=\"Open In Colab\"/></a>"
      ]
    },
    {
      "cell_type": "markdown",
      "source": [
        "Learning notes from https://www.bilibili.com/video/BV1kT4y1u72i?spm_id_from=333.999.0.0"
      ],
      "metadata": {
        "id": "nSw62SkyUmVm"
      }
    },
    {
      "cell_type": "markdown",
      "source": [
        "# Swap two variables"
      ],
      "metadata": {
        "id": "5GV0PpOiUv2U"
      }
    },
    {
      "cell_type": "code",
      "execution_count": null,
      "metadata": {
        "colab": {
          "base_uri": "https://localhost:8080/"
        },
        "id": "PevtQXOZUfx8",
        "outputId": "e7240d75-dd90-430d-cff4-c6b335f49f2a"
      },
      "outputs": [
        {
          "output_type": "stream",
          "name": "stdout",
          "text": [
            "1\n",
            "2\n"
          ]
        }
      ],
      "source": [
        "a = 1\n",
        "b = 2\n",
        "print(a)\n",
        "print(b)"
      ]
    },
    {
      "cell_type": "code",
      "source": [
        "a, b = b, a\n",
        "print(a)\n",
        "print(b)"
      ],
      "metadata": {
        "colab": {
          "base_uri": "https://localhost:8080/"
        },
        "id": "v73TtWg_VCFH",
        "outputId": "873be398-624e-4fe6-f089-5063662e27f5"
      },
      "execution_count": null,
      "outputs": [
        {
          "output_type": "stream",
          "name": "stdout",
          "text": [
            "2\n",
            "1\n"
          ]
        }
      ]
    },
    {
      "cell_type": "markdown",
      "source": [
        "# String Formatting"
      ],
      "metadata": {
        "id": "0SMdu2MyVK2u"
      }
    },
    {
      "cell_type": "code",
      "source": [
        "name = \"Ross\"\n",
        "\n",
        "print(\"Hi, I'm \" + name)"
      ],
      "metadata": {
        "colab": {
          "base_uri": "https://localhost:8080/"
        },
        "id": "Yi7xAgtRVOOo",
        "outputId": "7be58c8f-62fd-493c-d449-3892a5e2a462"
      },
      "execution_count": null,
      "outputs": [
        {
          "output_type": "stream",
          "name": "stdout",
          "text": [
            "Hi, I'm Ross\n"
          ]
        }
      ]
    },
    {
      "cell_type": "code",
      "source": [
        "name = \"Ross\"\n",
        "country = \"China\"\n",
        "age = 28\n",
        "\n",
        "print(\"Hi, I'm \" + name + \". I'm from \" + country + \". And I'm \" + str(age) + \".\")"
      ],
      "metadata": {
        "colab": {
          "base_uri": "https://localhost:8080/"
        },
        "id": "GrfwAEE3urRa",
        "outputId": "e9dbbae9-a415-4188-af04-0561f6972f38"
      },
      "execution_count": null,
      "outputs": [
        {
          "output_type": "stream",
          "name": "stdout",
          "text": [
            "Hi, I'm Ross. I'm from China. And I'm 28.\n"
          ]
        }
      ]
    },
    {
      "cell_type": "code",
      "source": [
        "name = \"Ross\"\n",
        "country = \"China\"\n",
        "age = 28\n",
        "\n",
        "print(\"Hi, I'm %s. I'm from %s. And I'm %d.\" % (name, country, age))  "
      ],
      "metadata": {
        "id": "VgfhF_LwVOHg",
        "colab": {
          "base_uri": "https://localhost:8080/"
        },
        "outputId": "8231e734-4745-4cdd-fcf8-9aa7eb924c2f"
      },
      "execution_count": 1,
      "outputs": [
        {
          "output_type": "stream",
          "name": "stdout",
          "text": [
            "Hi, I'm Ross. I'm from China. And I'm 28.\n"
          ]
        }
      ]
    },
    {
      "cell_type": "code",
      "source": [
        "name = \"Ross\"\n",
        "country = \"China\"\n",
        "age = 28\n",
        "\n",
        "print(\"Hi, I'm {}. I'm from {}. And I'm {}.\" .format(name, country, age))  "
      ],
      "metadata": {
        "id": "ZTjU_WAhVOFQ",
        "colab": {
          "base_uri": "https://localhost:8080/"
        },
        "outputId": "21ed4b61-8279-4708-a724-889e4f0a8982"
      },
      "execution_count": 3,
      "outputs": [
        {
          "output_type": "stream",
          "name": "stdout",
          "text": [
            "Hi, I'm Ross. I'm from China. And I'm 28.\n"
          ]
        }
      ]
    },
    {
      "cell_type": "code",
      "source": [
        "name = \"Ross\"\n",
        "country = \"China\"\n",
        "age = 28\n",
        "\n",
        "print(\"Hi, I'm {0}. Yes I'm {0}!\" .format(name))  "
      ],
      "metadata": {
        "id": "hilryCpbVODI",
        "colab": {
          "base_uri": "https://localhost:8080/"
        },
        "outputId": "b140ec60-0a37-4ec4-e23b-a742c566922d"
      },
      "execution_count": 4,
      "outputs": [
        {
          "output_type": "stream",
          "name": "stdout",
          "text": [
            "Hi, I'm Ross. Yes I'm Ross!\n"
          ]
        }
      ]
    },
    {
      "cell_type": "code",
      "source": [
        "name = \"Ross\"\n",
        "country = \"China\"\n",
        "age = 28\n",
        "\n",
        "print(f\"Hi, I'm {name}. Yes I'm {country}. And I'm {age}.\")  "
      ],
      "metadata": {
        "id": "yiASyEj0VOAw",
        "colab": {
          "base_uri": "https://localhost:8080/"
        },
        "outputId": "61cec69a-0227-40ad-96d2-fb362e02ba22"
      },
      "execution_count": 5,
      "outputs": [
        {
          "output_type": "stream",
          "name": "stdout",
          "text": [
            "Hi, I'm Ross. Yes I'm China. And I'm 28.\n"
          ]
        }
      ]
    },
    {
      "cell_type": "markdown",
      "source": [
        "# Yield Statement"
      ],
      "metadata": {
        "id": "fcHuQC6cxk1g"
      }
    },
    {
      "cell_type": "code",
      "source": [
        "def fibonacci(n):\n",
        "  a = 0\n",
        "  b = 1\n",
        "  nums = []\n",
        "  for _ in range(n):\n",
        "    nums.append(a)\n",
        "    a, b = b, a + b\n",
        "  return nums\n",
        "\n",
        "for i in fibonacci(10):\n",
        "  print(i)"
      ],
      "metadata": {
        "colab": {
          "base_uri": "https://localhost:8080/"
        },
        "id": "RLYHwm1Sxp1j",
        "outputId": "c0003b2d-2c65-4ff3-e7c3-0c1f289f8418"
      },
      "execution_count": 6,
      "outputs": [
        {
          "output_type": "stream",
          "name": "stdout",
          "text": [
            "0\n",
            "1\n",
            "1\n",
            "2\n",
            "3\n",
            "5\n",
            "8\n",
            "13\n",
            "21\n",
            "34\n"
          ]
        }
      ]
    },
    {
      "cell_type": "code",
      "source": [
        "def fibonacci(n):\n",
        "  a = 0\n",
        "  b = 1\n",
        "  for _ in range(n):\n",
        "    yield a # 每当计算出一个元素，就立马将这个元素给送出去，也就是说下面的 for loop 会立即输出这个数，使用 yield 的好处是不用等待整个列表都生成完毕后再一个个输出\n",
        "    # yield 和 return 的区别是，当函数 yield 一个数值后，函数并不会马上返回，而会继续执行下去\n",
        "    # 比如我们可以写一个函数从网络上下载一系列文档，并输出每个文档的内容，如果我们使用 yield，则可以保证在每个文档被下载成功后，就立马输出它的内容，而无需等待所有文档都下载完毕\n",
        "    a, b = b, a + b\n",
        "\n",
        "for i in fibonacci(10):\n",
        "  print(i)"
      ],
      "metadata": {
        "colab": {
          "base_uri": "https://localhost:8080/"
        },
        "id": "TsvIy6D8xpzT",
        "outputId": "5b71957d-d9a3-4e9e-a3cb-6a333bfd7297"
      },
      "execution_count": 7,
      "outputs": [
        {
          "output_type": "stream",
          "name": "stdout",
          "text": [
            "0\n",
            "1\n",
            "1\n",
            "2\n",
            "3\n",
            "5\n",
            "8\n",
            "13\n",
            "21\n",
            "34\n"
          ]
        }
      ]
    },
    {
      "cell_type": "markdown",
      "source": [
        "# List Comprehension"
      ],
      "metadata": {
        "id": "a0BJjeTO1QK1"
      }
    },
    {
      "cell_type": "code",
      "source": [
        "fruit = [\"apple\", \"pear\", \"pineapple\", \"orange\", \"banana\"]\n",
        "\n",
        "for i in range(len(fruit)):\n",
        "  fruit[i] = fruit[i].upper()\n",
        "\n",
        "print(fruit)"
      ],
      "metadata": {
        "colab": {
          "base_uri": "https://localhost:8080/"
        },
        "id": "1J9QWVp6xpvz",
        "outputId": "c31932ed-9937-4512-aabe-80ee36c7de02"
      },
      "execution_count": 10,
      "outputs": [
        {
          "output_type": "stream",
          "name": "stdout",
          "text": [
            "['APPLE', 'PEAR', 'PINEAPPLE', 'ORANGE', 'BANANA']\n"
          ]
        }
      ]
    },
    {
      "cell_type": "code",
      "source": [
        "fruit = [\"apple\", \"pear\", \"pineapple\", \"orange\", \"banana\"]\n",
        "\n",
        "fruit = [x.upper() for x in fruit]\n",
        "\n",
        "print(fruit)"
      ],
      "metadata": {
        "colab": {
          "base_uri": "https://localhost:8080/"
        },
        "id": "YmOf3KPdxpt7",
        "outputId": "fe53c1c6-a87f-4e70-e99d-88bfebe3cb28"
      },
      "execution_count": 11,
      "outputs": [
        {
          "output_type": "stream",
          "name": "stdout",
          "text": [
            "['APPLE', 'PEAR', 'PINEAPPLE', 'ORANGE', 'BANANA']\n"
          ]
        }
      ]
    },
    {
      "cell_type": "code",
      "source": [
        "fruit = [\"apple\", \"pear\", \"pineapple\", \"orange\", \"banana\"]\n",
        "filtered_fruit = []\n",
        "\n",
        "for f in fruit:\n",
        "  if f.startswith(\"a\"):\n",
        "    filtered_fruit.append(f)\n",
        "\n",
        "print(filtered_fruit)"
      ],
      "metadata": {
        "colab": {
          "base_uri": "https://localhost:8080/"
        },
        "id": "dT6PpeUqxpsD",
        "outputId": "9ee537c7-3ec2-4bc9-8dbc-602b506cccb3"
      },
      "execution_count": 18,
      "outputs": [
        {
          "output_type": "stream",
          "name": "stdout",
          "text": [
            "['apple']\n"
          ]
        }
      ]
    },
    {
      "cell_type": "code",
      "source": [
        "fruit = [\"apple\", \"pear\", \"pineapple\", \"orange\", \"banana\"]\n",
        "filtered_fruit = [x for x in fruit if x.startswith(\"a\")]\n",
        "\n",
        "print(filtered_fruit)"
      ],
      "metadata": {
        "colab": {
          "base_uri": "https://localhost:8080/"
        },
        "id": "KlCckOKexpp7",
        "outputId": "9c738480-2645-4581-81d3-7e9a430d9df4"
      },
      "execution_count": 17,
      "outputs": [
        {
          "output_type": "stream",
          "name": "stdout",
          "text": [
            "['apple']\n"
          ]
        }
      ]
    },
    {
      "cell_type": "markdown",
      "source": [
        "# Enumerate Function"
      ],
      "metadata": {
        "id": "uLACoHkQ6JA1"
      }
    },
    {
      "cell_type": "code",
      "source": [
        "fruit = [\"apple\", \"pear\", \"pineapple\", \"orange\", \"banana\"]\n",
        "for x in fruit:\n",
        "  print(x)"
      ],
      "metadata": {
        "colab": {
          "base_uri": "https://localhost:8080/"
        },
        "id": "I7UgP4i26MZv",
        "outputId": "e00a168a-e730-45ae-955e-032fde159694"
      },
      "execution_count": 19,
      "outputs": [
        {
          "output_type": "stream",
          "name": "stdout",
          "text": [
            "apple\n",
            "pear\n",
            "pineapple\n",
            "orange\n",
            "banana\n"
          ]
        }
      ]
    },
    {
      "cell_type": "code",
      "source": [
        "fruit = [\"apple\", \"pear\", \"pineapple\", \"orange\", \"banana\"]\n",
        "for i, x in enumerate(fruit):\n",
        "  print(i, x)"
      ],
      "metadata": {
        "colab": {
          "base_uri": "https://localhost:8080/"
        },
        "id": "kKeDA1tk6MXv",
        "outputId": "cb17148d-af19-46d9-c240-7aec3d66160d"
      },
      "execution_count": 20,
      "outputs": [
        {
          "output_type": "stream",
          "name": "stdout",
          "text": [
            "0 apple\n",
            "1 pear\n",
            "2 pineapple\n",
            "3 orange\n",
            "4 banana\n"
          ]
        }
      ]
    },
    {
      "cell_type": "markdown",
      "source": [
        "# Looping Backwards (反向遍历)"
      ],
      "metadata": {
        "id": "3anr19EnkWRo"
      }
    },
    {
      "cell_type": "code",
      "source": [
        "fruit = [\"apple\", \"pear\", \"pineapple\", \"orange\", \"banana\"]\n",
        "for i, x in enumerate(reversed(fruit)):\n",
        "  print(i, x)"
      ],
      "metadata": {
        "colab": {
          "base_uri": "https://localhost:8080/"
        },
        "id": "Mko7RZZh6MUY",
        "outputId": "17489868-09e8-4625-ecad-477169c7cec2"
      },
      "execution_count": 21,
      "outputs": [
        {
          "output_type": "stream",
          "name": "stdout",
          "text": [
            "0 banana\n",
            "1 orange\n",
            "2 pineapple\n",
            "3 pear\n",
            "4 apple\n"
          ]
        }
      ]
    },
    {
      "cell_type": "markdown",
      "source": [
        "# Looping in Sorted Order (按顺序遍历)"
      ],
      "metadata": {
        "id": "ma7eyjWLk986"
      }
    },
    {
      "cell_type": "code",
      "source": [
        "# 让元素按字典顺序排序\n",
        "fruit = [\"apple\", \"pear\", \"pineapple\", \"orange\", \"banana\"]\n",
        "for i, x in enumerate(sorted(fruit)):\n",
        "  print(i, x)"
      ],
      "metadata": {
        "colab": {
          "base_uri": "https://localhost:8080/"
        },
        "id": "ZCFd9SVp6MSQ",
        "outputId": "839e9d24-3981-4240-dc0d-39502a2939de"
      },
      "execution_count": 22,
      "outputs": [
        {
          "output_type": "stream",
          "name": "stdout",
          "text": [
            "0 apple\n",
            "1 banana\n",
            "2 orange\n",
            "3 pear\n",
            "4 pineapple\n"
          ]
        }
      ]
    },
    {
      "cell_type": "markdown",
      "source": [
        "# Dictionary Merging (字典的合并操作)"
      ],
      "metadata": {
        "id": "XC2lNH0smO5w"
      }
    },
    {
      "cell_type": "code",
      "source": [
        "a = {\"ross\" : \"123456\", \"xiaoming\" : \"abc123\"}\n",
        "b = {\"lilei\" : \"111111\", \"zhangsan\" : \"12345678\"}\n",
        "\n",
        "c = {}\n",
        "for k in a:\n",
        "  c[k] = a[k]\n",
        "for k in b:\n",
        "  c[k] = b[k]\n",
        "\n",
        "print(c)"
      ],
      "metadata": {
        "colab": {
          "base_uri": "https://localhost:8080/"
        },
        "id": "38y9bZxP6MQP",
        "outputId": "cb816496-ac64-4f4b-945e-7315216dc8c7"
      },
      "execution_count": 24,
      "outputs": [
        {
          "output_type": "stream",
          "name": "stdout",
          "text": [
            "{'ross': '123456', 'xiaoming': 'abc123', 'lilei': '111111', 'zhangsan': '12345678'}\n"
          ]
        }
      ]
    },
    {
      "cell_type": "code",
      "source": [
        "a = {\"ross\" : \"123456\", \"xiaoming\" : \"abc123\"}\n",
        "b = {\"lilei\" : \"111111\", \"zhangsan\" : \"12345678\"}\n",
        "\n",
        "c = {**a, **b} # ** 叫做 unpacking(解包)，相当于将字典 a 和 b 中的内容直接填到 c 里\n",
        "\n",
        "print(c)"
      ],
      "metadata": {
        "colab": {
          "base_uri": "https://localhost:8080/"
        },
        "id": "Ir6zxorNxpnr",
        "outputId": "42a4e27f-2ec0-413e-c99c-182c78ab9d3b"
      },
      "execution_count": 25,
      "outputs": [
        {
          "output_type": "stream",
          "name": "stdout",
          "text": [
            "{'ross': '123456', 'xiaoming': 'abc123', 'lilei': '111111', 'zhangsan': '12345678'}\n"
          ]
        }
      ]
    },
    {
      "cell_type": "markdown",
      "source": [
        "# Ternary Operator (三元运算符)"
      ],
      "metadata": {
        "id": "daq8-dL3oFCX"
      }
    },
    {
      "cell_type": "code",
      "source": [
        "score = 5\n",
        "if score > 60:\n",
        "  s = \"pass\"\n",
        "else:\n",
        "  s = \"fail\""
      ],
      "metadata": {
        "id": "pj3hGPpKoXys"
      },
      "execution_count": 27,
      "outputs": []
    },
    {
      "cell_type": "code",
      "source": [
        "s = \"pass\" if score > 60 else \"fail\" # Ternary Operator"
      ],
      "metadata": {
        "id": "eVq8A8xgokDk"
      },
      "execution_count": 28,
      "outputs": []
    },
    {
      "cell_type": "markdown",
      "source": [
        "# Sequence Unpacking (序列解包)"
      ],
      "metadata": {
        "id": "BEGER0GJo0OT"
      }
    },
    {
      "cell_type": "code",
      "source": [
        "name = \"San Zhang\"\n",
        "\n",
        "str_list = name.split()\n",
        "first_name = str_list[0]\n",
        "last_name = str_list[1]\n",
        "\n",
        "print(f\"first_name: {first_name}\")\n",
        "print(f\"last_name: {last_name}\")"
      ],
      "metadata": {
        "colab": {
          "base_uri": "https://localhost:8080/"
        },
        "id": "SlvI6Fi1pAnC",
        "outputId": "ee58dc62-033e-449b-e851-f6a763040492"
      },
      "execution_count": 30,
      "outputs": [
        {
          "output_type": "stream",
          "name": "stdout",
          "text": [
            "first_name: San\n",
            "last_name: Zhang\n"
          ]
        }
      ]
    },
    {
      "cell_type": "code",
      "source": [
        "name = \"San Zhang\"\n",
        "\n",
        "first_name, last_name = name.split()\n",
        "\n",
        "print(f\"first_name: {first_name}\")\n",
        "print(f\"last_name: {last_name}\")"
      ],
      "metadata": {
        "colab": {
          "base_uri": "https://localhost:8080/"
        },
        "id": "DEvVyLPypAk6",
        "outputId": "771c368e-f15a-40c9-eb8b-d9e763cc30e0"
      },
      "execution_count": 31,
      "outputs": [
        {
          "output_type": "stream",
          "name": "stdout",
          "text": [
            "first_name: San\n",
            "last_name: Zhang\n"
          ]
        }
      ]
    },
    {
      "cell_type": "markdown",
      "source": [
        "# With Statement"
      ],
      "metadata": {
        "id": "kI9rS5P9qNVK"
      }
    },
    {
      "cell_type": "code",
      "source": [
        "f = open(\"somefile.txt\", \"r\")\n",
        "s = f.read()\n",
        "f.close() # 当完成对文件的读取，不再需要对象 f 之后，一定不要忘记调用 close() 方法关闭文件，\n",
        "# 如果你忘记关闭这个文件，python 将一直占用这个文件的系统资源，直到你的程序完全退出为止\n",
        "# 对于小脚本来说这不是大事，但是对于需要长时间在服务器里运行的程序，你的系统资源可能很快被吃光，接着你的程序会崩溃"
      ],
      "metadata": {
        "id": "4sjUUhJ2pAin"
      },
      "execution_count": null,
      "outputs": []
    },
    {
      "cell_type": "code",
      "source": [
        "with open(\"somefile.txt\", \"r\") as f: # 这样写就不再需要手动调用 close() 函数了，当 with 语句之后的代码执行完毕后，这个文件就会自动地被 python 关闭\n",
        "  s = f.read()"
      ],
      "metadata": {
        "id": "c2nm_dGTpAgn"
      },
      "execution_count": null,
      "outputs": []
    },
    {
      "cell_type": "code",
      "source": [
        ""
      ],
      "metadata": {
        "id": "wgOmB4UOpAeP"
      },
      "execution_count": null,
      "outputs": []
    }
  ]
}