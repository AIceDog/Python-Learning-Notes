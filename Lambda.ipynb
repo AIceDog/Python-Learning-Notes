{
  "nbformat": 4,
  "nbformat_minor": 0,
  "metadata": {
    "colab": {
      "name": "Lambda.ipynb",
      "provenance": [],
      "collapsed_sections": [],
      "authorship_tag": "ABX9TyOrQPkQxTFOTnAYCt757VIU",
      "include_colab_link": true
    },
    "kernelspec": {
      "name": "python3",
      "display_name": "Python 3"
    },
    "language_info": {
      "name": "python"
    }
  },
  "cells": [
    {
      "cell_type": "markdown",
      "metadata": {
        "id": "view-in-github",
        "colab_type": "text"
      },
      "source": [
        "<a href=\"https://colab.research.google.com/github/AIceDog/Python-Learning-Notes/blob/master/Lambda.ipynb\" target=\"_parent\"><img src=\"https://colab.research.google.com/assets/colab-badge.svg\" alt=\"Open In Colab\"/></a>"
      ]
    },
    {
      "cell_type": "markdown",
      "source": [
        "learning notes from https://realpython.com/python-lambda/"
      ],
      "metadata": {
        "id": "fra7UpoVIZ61"
      }
    },
    {
      "cell_type": "markdown",
      "source": [
        "# Example 1"
      ],
      "metadata": {
        "id": "yMmiploLQiLU"
      }
    },
    {
      "cell_type": "code",
      "source": [
        "lambda x: x"
      ],
      "metadata": {
        "colab": {
          "base_uri": "https://localhost:8080/"
        },
        "id": "MtG37fSIQsei",
        "outputId": "d73120c2-826f-4cb2-b118-ecacd907f894"
      },
      "execution_count": null,
      "outputs": [
        {
          "output_type": "execute_result",
          "data": {
            "text/plain": [
              "<function __main__.<lambda>>"
            ]
          },
          "metadata": {},
          "execution_count": 15
        }
      ]
    },
    {
      "cell_type": "code",
      "source": [
        "(lambda x: x)(6)"
      ],
      "metadata": {
        "colab": {
          "base_uri": "https://localhost:8080/"
        },
        "id": "iXTJjFoUQyJm",
        "outputId": "32d90d63-2e8f-41d1-fc95-b04ed14727a7"
      },
      "execution_count": null,
      "outputs": [
        {
          "output_type": "execute_result",
          "data": {
            "text/plain": [
              "6"
            ]
          },
          "metadata": {},
          "execution_count": 16
        }
      ]
    },
    {
      "cell_type": "code",
      "execution_count": null,
      "metadata": {
        "colab": {
          "base_uri": "https://localhost:8080/"
        },
        "id": "5Fp-YAVhO3A7",
        "outputId": "d7a324f7-f81f-4672-c5cf-bfd25acff99d"
      },
      "outputs": [
        {
          "output_type": "execute_result",
          "data": {
            "text/plain": [
              "6"
            ]
          },
          "metadata": {},
          "execution_count": 17
        }
      ],
      "source": [
        "def lambda1(x):\n",
        "  return x\n",
        "\n",
        "lambda1(6)"
      ]
    },
    {
      "cell_type": "markdown",
      "source": [
        "# Example 2"
      ],
      "metadata": {
        "id": "Y2z2oJNOQlft"
      }
    },
    {
      "cell_type": "code",
      "source": [
        "lambda x: x + 1"
      ],
      "metadata": {
        "colab": {
          "base_uri": "https://localhost:8080/"
        },
        "id": "UPpehpsFPflH",
        "outputId": "4179ebca-47af-4813-f5ac-8c58c2221036"
      },
      "execution_count": null,
      "outputs": [
        {
          "output_type": "execute_result",
          "data": {
            "text/plain": [
              "<function __main__.<lambda>>"
            ]
          },
          "metadata": {},
          "execution_count": 6
        }
      ]
    },
    {
      "cell_type": "code",
      "source": [
        "(lambda x: x + 1)(6)"
      ],
      "metadata": {
        "colab": {
          "base_uri": "https://localhost:8080/"
        },
        "id": "EGz_bCPVPfi_",
        "outputId": "ec6da7e0-74f0-4b65-b6dd-9a3e99e43b5d"
      },
      "execution_count": null,
      "outputs": [
        {
          "output_type": "execute_result",
          "data": {
            "text/plain": [
              "7"
            ]
          },
          "metadata": {},
          "execution_count": 7
        }
      ]
    },
    {
      "cell_type": "code",
      "source": [
        "Lambda2 = lambda x: x + 1\n",
        "\n",
        "Lambda2(6)"
      ],
      "metadata": {
        "colab": {
          "base_uri": "https://localhost:8080/"
        },
        "id": "gYEjcxPAPfgf",
        "outputId": "488beed7-a16d-4653-8faa-4d01cc166eb3"
      },
      "execution_count": null,
      "outputs": [
        {
          "output_type": "execute_result",
          "data": {
            "text/plain": [
              "7"
            ]
          },
          "metadata": {},
          "execution_count": 22
        }
      ]
    },
    {
      "cell_type": "code",
      "source": [
        "def Fun2(x):\n",
        "  return x + 1\n",
        "\n",
        "Fun2(6)"
      ],
      "metadata": {
        "colab": {
          "base_uri": "https://localhost:8080/"
        },
        "id": "OdZ6iO_ERkqn",
        "outputId": "f4aa0053-a8ec-4d27-9af3-81f424ff9f9d"
      },
      "execution_count": null,
      "outputs": [
        {
          "output_type": "execute_result",
          "data": {
            "text/plain": [
              "7"
            ]
          },
          "metadata": {},
          "execution_count": 23
        }
      ]
    },
    {
      "cell_type": "markdown",
      "source": [
        "# Example3"
      ],
      "metadata": {
        "id": "DEF_nU7pRwzf"
      }
    },
    {
      "cell_type": "code",
      "source": [
        "Lambda3 = lambda first, last: f'Full name: {first.title()} {last.title()}'\n",
        "\n",
        "Lambda3('Yichen', 'Yang')"
      ],
      "metadata": {
        "colab": {
          "base_uri": "https://localhost:8080/",
          "height": 37
        },
        "id": "JlIb08IERzV4",
        "outputId": "ba29f2e2-663d-4094-e91a-abe479415213"
      },
      "execution_count": null,
      "outputs": [
        {
          "output_type": "execute_result",
          "data": {
            "text/plain": [
              "'Full name: Yichen Yang'"
            ],
            "application/vnd.google.colaboratory.intrinsic+json": {
              "type": "string"
            }
          },
          "metadata": {},
          "execution_count": 24
        }
      ]
    },
    {
      "cell_type": "code",
      "source": [
        "(lambda first, last: f'Full name: {first.title()} {last.title()}')('Yichen', 'Yang')"
      ],
      "metadata": {
        "colab": {
          "base_uri": "https://localhost:8080/",
          "height": 37
        },
        "id": "ZWJNLiqfTg3i",
        "outputId": "f8684bd6-9d16-460c-80fb-ea67ac94e7ae"
      },
      "execution_count": null,
      "outputs": [
        {
          "output_type": "execute_result",
          "data": {
            "text/plain": [
              "'Full name: Yichen Yang'"
            ],
            "application/vnd.google.colaboratory.intrinsic+json": {
              "type": "string"
            }
          },
          "metadata": {},
          "execution_count": 30
        }
      ]
    },
    {
      "cell_type": "code",
      "source": [
        "def Fun3(first, last):\n",
        "  print(f'Full name: {first.title()} {last.title()}')\n",
        "\n",
        "Fun3('Yichen', 'Yang')"
      ],
      "metadata": {
        "colab": {
          "base_uri": "https://localhost:8080/"
        },
        "id": "4nhoke6_RzT5",
        "outputId": "d54fbe19-a29d-4299-cc80-e19f4e9eae57"
      },
      "execution_count": null,
      "outputs": [
        {
          "output_type": "stream",
          "name": "stdout",
          "text": [
            "Full name: Yichen Yang\n"
          ]
        }
      ]
    },
    {
      "cell_type": "markdown",
      "source": [
        "# Example4"
      ],
      "metadata": {
        "id": "07MNTNikTXps"
      }
    },
    {
      "cell_type": "code",
      "source": [
        "lambda x, y: x + y"
      ],
      "metadata": {
        "colab": {
          "base_uri": "https://localhost:8080/"
        },
        "id": "ULOPUtDKRzR4",
        "outputId": "00533113-b254-4c37-d430-bcb96f03daf4"
      },
      "execution_count": null,
      "outputs": [
        {
          "output_type": "execute_result",
          "data": {
            "text/plain": [
              "<function __main__.<lambda>>"
            ]
          },
          "metadata": {},
          "execution_count": 31
        }
      ]
    },
    {
      "cell_type": "code",
      "source": [
        "_(1, 2) # In the interactive interpreter, the single underscore (_) is bound to the last expression evaluated."
      ],
      "metadata": {
        "colab": {
          "base_uri": "https://localhost:8080/"
        },
        "id": "x6I9f-jURzQZ",
        "outputId": "ad4b4717-bdea-4461-8fae-24bd67999532"
      },
      "execution_count": null,
      "outputs": [
        {
          "output_type": "execute_result",
          "data": {
            "text/plain": [
              "3"
            ]
          },
          "metadata": {},
          "execution_count": 32
        }
      ]
    },
    {
      "cell_type": "code",
      "source": [
        "lambda x, y: x + y + 5"
      ],
      "metadata": {
        "colab": {
          "base_uri": "https://localhost:8080/"
        },
        "id": "DcVG_FA3RzOg",
        "outputId": "212e510c-8e93-4b96-d78f-a9603ccedbf7"
      },
      "execution_count": null,
      "outputs": [
        {
          "output_type": "execute_result",
          "data": {
            "text/plain": [
              "<function __main__.<lambda>>"
            ]
          },
          "metadata": {},
          "execution_count": 40
        }
      ]
    },
    {
      "cell_type": "code",
      "source": [
        "_(1, 2)"
      ],
      "metadata": {
        "colab": {
          "base_uri": "https://localhost:8080/"
        },
        "id": "UJTq_-tiRzLQ",
        "outputId": "09ac29ce-1d43-4351-e9d2-e71728e850f6"
      },
      "execution_count": null,
      "outputs": [
        {
          "output_type": "execute_result",
          "data": {
            "text/plain": [
              "8"
            ]
          },
          "metadata": {},
          "execution_count": 41
        }
      ]
    },
    {
      "cell_type": "markdown",
      "source": [
        "# Example5"
      ],
      "metadata": {
        "id": "Bo_7yKjnVZNC"
      }
    },
    {
      "cell_type": "code",
      "source": [
        "lambda x, func: x + func(x) # two parameters : variable x and function func()"
      ],
      "metadata": {
        "colab": {
          "base_uri": "https://localhost:8080/"
        },
        "id": "JaJNCDsJRzI4",
        "outputId": "1d270f70-5b03-41a4-ae19-4b6dd64baec7"
      },
      "execution_count": null,
      "outputs": [
        {
          "output_type": "execute_result",
          "data": {
            "text/plain": [
              "<function __main__.<lambda>>"
            ]
          },
          "metadata": {},
          "execution_count": 42
        }
      ]
    },
    {
      "cell_type": "code",
      "source": [
        "(lambda x, func: x + func(x))(2, lambda x: x * x) # return 2 + 2 * 2"
      ],
      "metadata": {
        "colab": {
          "base_uri": "https://localhost:8080/"
        },
        "id": "In6e1qP6RzFZ",
        "outputId": "5d54260c-4a66-4109-9c26-1919255e39cb"
      },
      "execution_count": null,
      "outputs": [
        {
          "output_type": "execute_result",
          "data": {
            "text/plain": [
              "6"
            ]
          },
          "metadata": {},
          "execution_count": 43
        }
      ]
    },
    {
      "cell_type": "code",
      "source": [
        "Lambda5 = lambda x, func: x + func(x)\n",
        "\n",
        "Lambda5(2, lambda x: x + 3)"
      ],
      "metadata": {
        "colab": {
          "base_uri": "https://localhost:8080/"
        },
        "id": "ARidmyuuRzDY",
        "outputId": "d4a86768-d4f2-4f0a-ff3a-7f47a83b1492"
      },
      "execution_count": null,
      "outputs": [
        {
          "output_type": "execute_result",
          "data": {
            "text/plain": [
              "7"
            ]
          },
          "metadata": {},
          "execution_count": 47
        }
      ]
    },
    {
      "cell_type": "markdown",
      "source": [
        "# Example6"
      ],
      "metadata": {
        "id": "1savRBI1Wf3h"
      }
    },
    {
      "cell_type": "code",
      "source": [
        "import dis # The dis module exposes functions to analyze Python bytecode generated by the Python compiler"
      ],
      "metadata": {
        "id": "k4Z2i-RDRzBI"
      },
      "execution_count": null,
      "outputs": []
    },
    {
      "cell_type": "code",
      "source": [
        "Lambda6 = lambda x, y: x + y\n",
        "\n",
        "type(Lambda6)"
      ],
      "metadata": {
        "colab": {
          "base_uri": "https://localhost:8080/"
        },
        "id": "jF4Gr2yTW98t",
        "outputId": "57337a36-3f40-47f6-c74b-9ee4b3c5e016"
      },
      "execution_count": null,
      "outputs": [
        {
          "output_type": "execute_result",
          "data": {
            "text/plain": [
              "function"
            ]
          },
          "metadata": {},
          "execution_count": 48
        }
      ]
    },
    {
      "cell_type": "code",
      "source": [
        "dis.dis(Lambda6)"
      ],
      "metadata": {
        "colab": {
          "base_uri": "https://localhost:8080/"
        },
        "id": "TIGhaWDXW96l",
        "outputId": "0310068d-b9d8-4d4d-a921-649bae1acf79"
      },
      "execution_count": null,
      "outputs": [
        {
          "output_type": "stream",
          "name": "stdout",
          "text": [
            "  1           0 LOAD_FAST                0 (x)\n",
            "              2 LOAD_FAST                1 (y)\n",
            "              4 BINARY_ADD\n",
            "              6 RETURN_VALUE\n"
          ]
        }
      ]
    },
    {
      "cell_type": "code",
      "source": [
        "Lambda6"
      ],
      "metadata": {
        "colab": {
          "base_uri": "https://localhost:8080/"
        },
        "id": "GPjbY350W92l",
        "outputId": "ff02a33b-d2e4-4c45-b9d0-34d2c48d58de"
      },
      "execution_count": null,
      "outputs": [
        {
          "output_type": "execute_result",
          "data": {
            "text/plain": [
              "<function __main__.<lambda>>"
            ]
          },
          "metadata": {},
          "execution_count": 50
        }
      ]
    },
    {
      "cell_type": "code",
      "source": [
        "def Fun6(x, y): \n",
        "  return x + y\n",
        "\n",
        "type(Fun6)"
      ],
      "metadata": {
        "colab": {
          "base_uri": "https://localhost:8080/"
        },
        "id": "K2xecCyVW90f",
        "outputId": "1a01dd03-6bd6-4898-cdf2-4aaae863046b"
      },
      "execution_count": null,
      "outputs": [
        {
          "output_type": "execute_result",
          "data": {
            "text/plain": [
              "function"
            ]
          },
          "metadata": {},
          "execution_count": 51
        }
      ]
    },
    {
      "cell_type": "code",
      "source": [
        "dis.dis(Fun6)"
      ],
      "metadata": {
        "colab": {
          "base_uri": "https://localhost:8080/"
        },
        "id": "ZVwbtwSbW9yM",
        "outputId": "8b4037a0-aff1-4e07-a0d0-4eb4b08ceed6"
      },
      "execution_count": null,
      "outputs": [
        {
          "output_type": "stream",
          "name": "stdout",
          "text": [
            "  2           0 LOAD_FAST                0 (x)\n",
            "              2 LOAD_FAST                1 (y)\n",
            "              4 BINARY_ADD\n",
            "              6 RETURN_VALUE\n"
          ]
        }
      ]
    },
    {
      "cell_type": "code",
      "source": [
        "Fun6"
      ],
      "metadata": {
        "colab": {
          "base_uri": "https://localhost:8080/"
        },
        "id": "tnXSnMHxW9sk",
        "outputId": "32c12430-c398-44e7-e845-6503e5664660"
      },
      "execution_count": null,
      "outputs": [
        {
          "output_type": "execute_result",
          "data": {
            "text/plain": [
              "<function __main__.Fun6>"
            ]
          },
          "metadata": {},
          "execution_count": 53
        }
      ]
    },
    {
      "cell_type": "markdown",
      "source": [
        "# Example7"
      ],
      "metadata": {
        "id": "05DJHP7zYN_a"
      }
    },
    {
      "cell_type": "code",
      "source": [
        "Lambda7 = lambda x: x / 0"
      ],
      "metadata": {
        "id": "d07NhcsqYQ6s"
      },
      "execution_count": null,
      "outputs": []
    },
    {
      "cell_type": "code",
      "source": [
        "Lambda7(2) # lambda traceback"
      ],
      "metadata": {
        "colab": {
          "base_uri": "https://localhost:8080/",
          "height": 218
        },
        "id": "_WIkW4fvYQ4U",
        "outputId": "1d33ced8-4b4d-4ba0-bfad-6e0a8b0d615e"
      },
      "execution_count": null,
      "outputs": [
        {
          "output_type": "error",
          "ename": "ZeroDivisionError",
          "evalue": "ignored",
          "traceback": [
            "\u001b[0;31m---------------------------------------------------------------------------\u001b[0m",
            "\u001b[0;31mZeroDivisionError\u001b[0m                         Traceback (most recent call last)",
            "\u001b[0;32m<ipython-input-55-9eccc85ccbb5>\u001b[0m in \u001b[0;36m<module>\u001b[0;34m()\u001b[0m\n\u001b[0;32m----> 1\u001b[0;31m \u001b[0mLambda7\u001b[0m\u001b[0;34m(\u001b[0m\u001b[0;36m2\u001b[0m\u001b[0;34m)\u001b[0m\u001b[0;34m\u001b[0m\u001b[0;34m\u001b[0m\u001b[0m\n\u001b[0m",
            "\u001b[0;32m<ipython-input-54-b6950fd9c455>\u001b[0m in \u001b[0;36m<lambda>\u001b[0;34m(x)\u001b[0m\n\u001b[0;32m----> 1\u001b[0;31m \u001b[0mLambda7\u001b[0m \u001b[0;34m=\u001b[0m \u001b[0;32mlambda\u001b[0m \u001b[0mx\u001b[0m\u001b[0;34m:\u001b[0m \u001b[0mx\u001b[0m \u001b[0;34m/\u001b[0m \u001b[0;36m0\u001b[0m\u001b[0;34m\u001b[0m\u001b[0;34m\u001b[0m\u001b[0m\n\u001b[0m",
            "\u001b[0;31mZeroDivisionError\u001b[0m: division by zero"
          ]
        }
      ]
    },
    {
      "cell_type": "code",
      "source": [
        "def Fun7(x): \n",
        "  return x / 0"
      ],
      "metadata": {
        "id": "Hd8r35QRYQ2Y"
      },
      "execution_count": null,
      "outputs": []
    },
    {
      "cell_type": "code",
      "source": [
        "Fun7(2) # function traceback"
      ],
      "metadata": {
        "colab": {
          "base_uri": "https://localhost:8080/",
          "height": 236
        },
        "id": "hn4Bn1e3YQ0M",
        "outputId": "dd072b8a-4111-4253-8e97-12e18e1e1b0b"
      },
      "execution_count": null,
      "outputs": [
        {
          "output_type": "error",
          "ename": "ZeroDivisionError",
          "evalue": "ignored",
          "traceback": [
            "\u001b[0;31m---------------------------------------------------------------------------\u001b[0m",
            "\u001b[0;31mZeroDivisionError\u001b[0m                         Traceback (most recent call last)",
            "\u001b[0;32m<ipython-input-57-455a45ea6387>\u001b[0m in \u001b[0;36m<module>\u001b[0;34m()\u001b[0m\n\u001b[0;32m----> 1\u001b[0;31m \u001b[0mFun7\u001b[0m\u001b[0;34m(\u001b[0m\u001b[0;36m2\u001b[0m\u001b[0;34m)\u001b[0m\u001b[0;34m\u001b[0m\u001b[0;34m\u001b[0m\u001b[0m\n\u001b[0m",
            "\u001b[0;32m<ipython-input-56-caa9af06fd95>\u001b[0m in \u001b[0;36mFun7\u001b[0;34m(x)\u001b[0m\n\u001b[1;32m      1\u001b[0m \u001b[0;32mdef\u001b[0m \u001b[0mFun7\u001b[0m\u001b[0;34m(\u001b[0m\u001b[0mx\u001b[0m\u001b[0;34m)\u001b[0m\u001b[0;34m:\u001b[0m\u001b[0;34m\u001b[0m\u001b[0;34m\u001b[0m\u001b[0m\n\u001b[0;32m----> 2\u001b[0;31m   \u001b[0;32mreturn\u001b[0m \u001b[0mx\u001b[0m \u001b[0;34m/\u001b[0m \u001b[0;36m0\u001b[0m\u001b[0;34m\u001b[0m\u001b[0;34m\u001b[0m\u001b[0m\n\u001b[0m",
            "\u001b[0;31mZeroDivisionError\u001b[0m: division by zero"
          ]
        }
      ]
    },
    {
      "cell_type": "markdown",
      "source": [
        "# Example7"
      ],
      "metadata": {
        "id": "GhJcdSL_bvIP"
      }
    },
    {
      "cell_type": "code",
      "source": [
        "# A lambda function can’t contain any statements. In a lambda function, \n",
        "# statements like return, pass, assert, or raise will raise a SyntaxError exception.\n",
        "(lambda x: assert x == 2)(2)"
      ],
      "metadata": {
        "colab": {
          "base_uri": "https://localhost:8080/",
          "height": 131
        },
        "id": "r2sfgbvkYQx8",
        "outputId": "077c513a-21d2-492d-f2e7-2418e6a779e1"
      },
      "execution_count": null,
      "outputs": [
        {
          "output_type": "error",
          "ename": "SyntaxError",
          "evalue": "ignored",
          "traceback": [
            "\u001b[0;36m  File \u001b[0;32m\"<ipython-input-58-8873a9b1d88c>\"\u001b[0;36m, line \u001b[0;32m1\u001b[0m\n\u001b[0;31m    (lambda x: assert x == 2)(2)\u001b[0m\n\u001b[0m                    ^\u001b[0m\n\u001b[0;31mSyntaxError\u001b[0m\u001b[0;31m:\u001b[0m invalid syntax\n"
          ]
        }
      ]
    },
    {
      "cell_type": "markdown",
      "source": [
        "# Example8"
      ],
      "metadata": {
        "id": "C63UkLq-cepL"
      }
    },
    {
      "cell_type": "code",
      "source": [
        "# Although, in the body of a lambda, \n",
        "# you can spread the expression over several lines using \n",
        "# parentheses or a multiline string, it remains a single expression:\n",
        "(lambda x:\n",
        "  (x % 2 and 'odd' or 'even'))(3)"
      ],
      "metadata": {
        "colab": {
          "base_uri": "https://localhost:8080/",
          "height": 37
        },
        "id": "-hP18IcyYQv7",
        "outputId": "3949a350-ff11-4e71-cb27-393773e72ee0"
      },
      "execution_count": null,
      "outputs": [
        {
          "output_type": "execute_result",
          "data": {
            "text/plain": [
              "'odd'"
            ],
            "application/vnd.google.colaboratory.intrinsic+json": {
              "type": "string"
            }
          },
          "metadata": {},
          "execution_count": 59
        }
      ]
    },
    {
      "cell_type": "markdown",
      "source": [
        "# Example9"
      ],
      "metadata": {
        "id": "L0ID-1bBc0PY"
      }
    },
    {
      "cell_type": "code",
      "source": [
        "# Type Annotations\n",
        "def Fun9(first: str, last: str) -> str: # input (string, string) -> output (string)\n",
        "  return f'{first.title()} {last.title()}'"
      ],
      "metadata": {
        "id": "d-R6oPT2YQtk"
      },
      "execution_count": null,
      "outputs": []
    },
    {
      "cell_type": "code",
      "source": [
        "lambda first: str, last: str: first.title() + \" \" + last.title() -> str"
      ],
      "metadata": {
        "colab": {
          "base_uri": "https://localhost:8080/",
          "height": 131
        },
        "id": "BMH1DVFwYQo7",
        "outputId": "6cb7a985-8fb5-43f1-bd7c-00c99a207db2"
      },
      "execution_count": null,
      "outputs": [
        {
          "output_type": "error",
          "ename": "SyntaxError",
          "evalue": "ignored",
          "traceback": [
            "\u001b[0;36m  File \u001b[0;32m\"<ipython-input-61-598cf822a7f7>\"\u001b[0;36m, line \u001b[0;32m1\u001b[0m\n\u001b[0;31m    lambda first: str, last: str: first.title() + \" \" + last.title() -> str\u001b[0m\n\u001b[0m                                ^\u001b[0m\n\u001b[0;31mSyntaxError\u001b[0m\u001b[0;31m:\u001b[0m invalid syntax\n"
          ]
        }
      ]
    },
    {
      "cell_type": "markdown",
      "source": [
        "# Arguments"
      ],
      "metadata": {
        "id": "j1d9rTihdvj9"
      }
    },
    {
      "cell_type": "code",
      "source": [
        "(lambda x, y, z: x + y + z)(1, 2, 3)"
      ],
      "metadata": {
        "colab": {
          "base_uri": "https://localhost:8080/"
        },
        "id": "1shsUVVwdUjT",
        "outputId": "3c9c0996-4c27-4789-a36e-d0ff1112c733"
      },
      "execution_count": null,
      "outputs": [
        {
          "output_type": "execute_result",
          "data": {
            "text/plain": [
              "6"
            ]
          },
          "metadata": {},
          "execution_count": 64
        }
      ]
    },
    {
      "cell_type": "code",
      "source": [
        "(lambda x, y, z=3: x + y + z)(1, 2)"
      ],
      "metadata": {
        "colab": {
          "base_uri": "https://localhost:8080/"
        },
        "id": "11zF_CI2dUhS",
        "outputId": "b9207777-21d2-44bd-9f41-5092607d8d75"
      },
      "execution_count": null,
      "outputs": [
        {
          "output_type": "execute_result",
          "data": {
            "text/plain": [
              "6"
            ]
          },
          "metadata": {},
          "execution_count": 65
        }
      ]
    },
    {
      "cell_type": "code",
      "source": [
        "(lambda x, y, z=3: x + y + z)(1, y=2)"
      ],
      "metadata": {
        "colab": {
          "base_uri": "https://localhost:8080/"
        },
        "id": "voeTLwbFcwHW",
        "outputId": "009a7bd0-a025-4dec-a64b-ad3baabd3723"
      },
      "execution_count": null,
      "outputs": [
        {
          "output_type": "execute_result",
          "data": {
            "text/plain": [
              "6"
            ]
          },
          "metadata": {},
          "execution_count": 66
        }
      ]
    },
    {
      "cell_type": "code",
      "source": [
        "(lambda *args: sum(args))(1,2,3)"
      ],
      "metadata": {
        "colab": {
          "base_uri": "https://localhost:8080/"
        },
        "id": "7dbLUh_AcwFI",
        "outputId": "3cfdfa90-7184-49e1-ddbd-c9862c8720cc"
      },
      "execution_count": null,
      "outputs": [
        {
          "output_type": "execute_result",
          "data": {
            "text/plain": [
              "6"
            ]
          },
          "metadata": {},
          "execution_count": 67
        }
      ]
    },
    {
      "cell_type": "code",
      "source": [
        "(lambda **kwargs: sum(kwargs.values()))(one=1, two=2, three=3)"
      ],
      "metadata": {
        "colab": {
          "base_uri": "https://localhost:8080/"
        },
        "id": "LfbryunBcwC-",
        "outputId": "32a49b4f-94fb-4d40-fadc-b1092e47e3e3"
      },
      "execution_count": null,
      "outputs": [
        {
          "output_type": "execute_result",
          "data": {
            "text/plain": [
              "6"
            ]
          },
          "metadata": {},
          "execution_count": 68
        }
      ]
    },
    {
      "cell_type": "code",
      "source": [
        "(lambda x, *, y=0, z=0: x + y + z)(1, y=2, z=3)"
      ],
      "metadata": {
        "colab": {
          "base_uri": "https://localhost:8080/"
        },
        "id": "JUKi20fzcwAm",
        "outputId": "e956b52c-f83b-431f-e258-985b83158f25"
      },
      "execution_count": null,
      "outputs": [
        {
          "output_type": "execute_result",
          "data": {
            "text/plain": [
              "6"
            ]
          },
          "metadata": {},
          "execution_count": 69
        }
      ]
    },
    {
      "cell_type": "markdown",
      "source": [
        "# Decorators\n",
        "\n",
        "In Python, a decorator is the implementation of a pattern that allows adding a behavior to a function or a class. It is usually expressed with the @decorator syntax prefixing a function."
      ],
      "metadata": {
        "id": "ZpgZIhiGdVWn"
      }
    },
    {
      "cell_type": "code",
      "source": [
        "def some_decorator(f):\n",
        "  def wraps(*args):\n",
        "    print(f\"Calling function '{f.__name__}'\")\n",
        "    return f(args)\n",
        "  return wraps\n",
        "\n",
        "@some_decorator\n",
        "def decorated_function(x):\n",
        "  print(f\"With argument '{x}'\")"
      ],
      "metadata": {
        "id": "RW5GYhaqcv9G"
      },
      "execution_count": null,
      "outputs": []
    },
    {
      "cell_type": "markdown",
      "source": [
        "In the example above, some_decorator() is a function that adds a behavior to decorated_function(), so that invoking decorated_function(\"Python\") results in the following output:"
      ],
      "metadata": {
        "id": "Gnyy3babefc-"
      }
    },
    {
      "cell_type": "code",
      "source": [
        "decorated_function('Python')"
      ],
      "metadata": {
        "colab": {
          "base_uri": "https://localhost:8080/"
        },
        "id": "DG_B03iregS5",
        "outputId": "14ae7a93-e631-4dad-db0a-eee839f86aa9"
      },
      "execution_count": null,
      "outputs": [
        {
          "output_type": "stream",
          "name": "stdout",
          "text": [
            "Calling function 'decorated_function'\n",
            "With argument '('Python',)'\n"
          ]
        }
      ]
    },
    {
      "cell_type": "markdown",
      "source": [
        "A decorator can be applied to a lambda. Although it’s not possible to decorate a lambda with the @decorator syntax, a decorator is just a function, so it can call the lambda function"
      ],
      "metadata": {
        "id": "Glg24cO1e4XQ"
      }
    },
    {
      "cell_type": "code",
      "source": [
        "# Defining a decorator\n",
        "def trace(f):\n",
        "  def wrap(*args, **kwargs):\n",
        "    print(f\"[TRACE] func: {f.__name__}, args: {args}, kwargs: {kwargs}\")\n",
        "    return f(*args, **kwargs)\n",
        "\n",
        "  return wrap"
      ],
      "metadata": {
        "id": "b4SzVgfVe5Tp"
      },
      "execution_count": null,
      "outputs": []
    },
    {
      "cell_type": "code",
      "source": [
        "# Applying decorator to a function\n",
        "@trace\n",
        "def add_two(x):\n",
        "  return x + 2"
      ],
      "metadata": {
        "id": "aj1EL7QFe5Rh"
      },
      "execution_count": null,
      "outputs": []
    },
    {
      "cell_type": "code",
      "source": [
        "# Calling the decorated function\n",
        "add_two(3)"
      ],
      "metadata": {
        "colab": {
          "base_uri": "https://localhost:8080/"
        },
        "id": "7T8ACnYDe5OU",
        "outputId": "f1c487cf-af01-4672-e48c-9dca5a187e80"
      },
      "execution_count": null,
      "outputs": [
        {
          "output_type": "stream",
          "name": "stdout",
          "text": [
            "[TRACE] func: add_two, args: (3,), kwargs: {}\n"
          ]
        },
        {
          "output_type": "execute_result",
          "data": {
            "text/plain": [
              "5"
            ]
          },
          "metadata": {},
          "execution_count": 76
        }
      ]
    },
    {
      "cell_type": "code",
      "source": [
        "# Applying decorator to a lambda\n",
        "print((trace(lambda x: x ** 2))(3))"
      ],
      "metadata": {
        "colab": {
          "base_uri": "https://localhost:8080/"
        },
        "id": "B8fWm9Oze5MJ",
        "outputId": "c65aa9af-2116-4dce-943c-4a357d900657"
      },
      "execution_count": null,
      "outputs": [
        {
          "output_type": "stream",
          "name": "stdout",
          "text": [
            "[TRACE] func: <lambda>, args: (3,), kwargs: {}\n",
            "9\n"
          ]
        }
      ]
    },
    {
      "cell_type": "code",
      "source": [
        "# The first argument of map() is a lambda that \n",
        "# multiplies its argument by 2. This lambda is decorated with trace().\n",
        "list(map(trace(lambda x: x*2), range(3)))"
      ],
      "metadata": {
        "colab": {
          "base_uri": "https://localhost:8080/"
        },
        "id": "OHk0R6ese5KB",
        "outputId": "b49300ea-d43b-4fca-bea1-b68105f0d382"
      },
      "execution_count": null,
      "outputs": [
        {
          "output_type": "stream",
          "name": "stdout",
          "text": [
            "[TRACE] func: <lambda>, args: (0,), kwargs: {}\n",
            "[TRACE] func: <lambda>, args: (1,), kwargs: {}\n",
            "[TRACE] func: <lambda>, args: (2,), kwargs: {}\n"
          ]
        },
        {
          "output_type": "execute_result",
          "data": {
            "text/plain": [
              "[0, 2, 4]"
            ]
          },
          "metadata": {},
          "execution_count": 78
        }
      ]
    },
    {
      "cell_type": "markdown",
      "source": [
        "# Closure"
      ],
      "metadata": {
        "id": "HCurqfdbgTQt"
      }
    },
    {
      "cell_type": "code",
      "source": [
        "def outer_func(x):\n",
        "  y = 4\n",
        "  def inner_func(z):\n",
        "    print(f\"x = {x}, y = {y}, z = {z}\")\n",
        "    return x + y + z\n",
        "  return inner_func"
      ],
      "metadata": {
        "id": "wllP6YRegUkm"
      },
      "execution_count": null,
      "outputs": []
    },
    {
      "cell_type": "code",
      "source": [
        "for i in range(3):\n",
        "  closure = outer_func(i)\n",
        "  print(f\"closure({i+5}) = {closure(i+5)}\")"
      ],
      "metadata": {
        "colab": {
          "base_uri": "https://localhost:8080/"
        },
        "id": "i-8_5pHtVldT",
        "outputId": "4ad3678e-37e9-48df-b61e-28a7ae84e5d8"
      },
      "execution_count": null,
      "outputs": [
        {
          "output_type": "stream",
          "name": "stdout",
          "text": [
            "x = 0, y = 4, z = 5\n",
            "closure(5) = 9\n",
            "x = 1, y = 4, z = 6\n",
            "closure(6) = 11\n",
            "x = 2, y = 4, z = 7\n",
            "closure(7) = 13\n"
          ]
        }
      ]
    },
    {
      "cell_type": "markdown",
      "source": [
        "a lambda can also be a closure"
      ],
      "metadata": {
        "id": "NP9RwmxxWalC"
      }
    },
    {
      "cell_type": "code",
      "source": [
        "def outer_func(x):\n",
        "  y = 4\n",
        "  return lambda z: x + y + z"
      ],
      "metadata": {
        "id": "u2YgcoMyVlbL"
      },
      "execution_count": null,
      "outputs": []
    },
    {
      "cell_type": "code",
      "source": [
        "for i in range(3):\n",
        "  closure = outer_func(i)\n",
        "  print(f\"closure({i+5}) = {closure(i+5)}\")"
      ],
      "metadata": {
        "colab": {
          "base_uri": "https://localhost:8080/"
        },
        "id": "YScfkB92VlYz",
        "outputId": "fcf8f429-47a7-4bab-fee6-bfa0491e9730"
      },
      "execution_count": null,
      "outputs": [
        {
          "output_type": "stream",
          "name": "stdout",
          "text": [
            "closure(5) = 9\n",
            "closure(6) = 11\n",
            "closure(7) = 13\n"
          ]
        }
      ]
    },
    {
      "cell_type": "markdown",
      "source": [
        "# Evaluation Time"
      ],
      "metadata": {
        "id": "ZLj74Pg8AF5r"
      }
    },
    {
      "cell_type": "markdown",
      "source": [
        "In some situations involving loops, the behavior of a Python lambda function as a closure may be counterintuitive. It requires understanding when free variables are bound in the context of a lambda. The following examples demonstrate the difference when using a regular function vs using a Python lambda."
      ],
      "metadata": {
        "id": "ImUijKnJGdZ6"
      }
    },
    {
      "cell_type": "markdown",
      "source": [
        "Test the scenario first using a regular function:"
      ],
      "metadata": {
        "id": "1NFjRq92GbTR"
      }
    },
    {
      "cell_type": "code",
      "source": [
        "def wrap(n):\n",
        "  def f():\n",
        "    print(n)\n",
        "  return f"
      ],
      "metadata": {
        "id": "K_h4h_J1VlWa"
      },
      "execution_count": null,
      "outputs": []
    },
    {
      "cell_type": "code",
      "source": [
        "numbers = 'one', 'two', 'three'\n",
        "funcs = []"
      ],
      "metadata": {
        "id": "kGzfGJWyBEaN"
      },
      "execution_count": null,
      "outputs": []
    },
    {
      "cell_type": "code",
      "source": [
        "for n in numbers:\n",
        "  funcs.append(wrap(n))\n",
        "\n",
        "funcs"
      ],
      "metadata": {
        "colab": {
          "base_uri": "https://localhost:8080/"
        },
        "id": "8_o6bFp4BOHl",
        "outputId": "53a1e7a5-50ab-49cf-c57c-68202b5b135c"
      },
      "execution_count": null,
      "outputs": [
        {
          "output_type": "execute_result",
          "data": {
            "text/plain": [
              "[<function __main__.wrap.<locals>.f>,\n",
              " <function __main__.wrap.<locals>.f>,\n",
              " <function __main__.wrap.<locals>.f>]"
            ]
          },
          "metadata": {},
          "execution_count": 91
        }
      ]
    },
    {
      "cell_type": "code",
      "source": [
        "for f in funcs:\n",
        "  f()"
      ],
      "metadata": {
        "colab": {
          "base_uri": "https://localhost:8080/"
        },
        "id": "_yImJzjXBOF0",
        "outputId": "a1526828-602e-447a-e60c-1183a4b82973"
      },
      "execution_count": null,
      "outputs": [
        {
          "output_type": "stream",
          "name": "stdout",
          "text": [
            "one\n",
            "two\n",
            "three\n"
          ]
        }
      ]
    },
    {
      "cell_type": "markdown",
      "source": [
        "Now, with the implementation of the same logic with a lambda function, observe the unexpected behavior:"
      ],
      "metadata": {
        "id": "m4az1GDzGcAJ"
      }
    },
    {
      "cell_type": "code",
      "source": [
        "numbers = 'one', 'two', 'three'\n",
        "funcs = []"
      ],
      "metadata": {
        "id": "xXHkPzPJBOD8"
      },
      "execution_count": null,
      "outputs": []
    },
    {
      "cell_type": "code",
      "source": [
        "for n in numbers:\n",
        "  funcs.append(lambda: print(n))"
      ],
      "metadata": {
        "id": "jyEXrCVOBN_r"
      },
      "execution_count": null,
      "outputs": []
    },
    {
      "cell_type": "code",
      "source": [
        "for f in funcs:\n",
        "  f()"
      ],
      "metadata": {
        "colab": {
          "base_uri": "https://localhost:8080/"
        },
        "id": "d43mdr8_GsXM",
        "outputId": "683a2b4d-0ad4-40ce-91ef-fa91ad4908e3"
      },
      "execution_count": null,
      "outputs": [
        {
          "output_type": "stream",
          "name": "stdout",
          "text": [
            "three\n",
            "three\n",
            "three\n"
          ]
        }
      ]
    },
    {
      "cell_type": "code",
      "source": [
        "  # To overcome this issue, you can assign the free \n",
        "# variable at definition time as follows:\n",
        "numbers = 'one', 'two', 'three'\n",
        "funcs = []"
      ],
      "metadata": {
        "id": "i1dUROLRG3tk"
      },
      "execution_count": null,
      "outputs": []
    },
    {
      "cell_type": "code",
      "source": [
        "for n in numbers:\n",
        "  funcs.append(lambda x = n: print(x))"
      ],
      "metadata": {
        "id": "n9ElhCOdG_z5"
      },
      "execution_count": null,
      "outputs": []
    },
    {
      "cell_type": "code",
      "source": [
        "for f in funcs:\n",
        "  f()"
      ],
      "metadata": {
        "colab": {
          "base_uri": "https://localhost:8080/"
        },
        "id": "9EccThH0wLgo",
        "outputId": "cfb8f8c4-c4a3-48c3-f9d2-620bd49607ac"
      },
      "execution_count": null,
      "outputs": [
        {
          "output_type": "stream",
          "name": "stdout",
          "text": [
            "one\n",
            "two\n",
            "three\n"
          ]
        }
      ]
    },
    {
      "cell_type": "markdown",
      "source": [
        "# Testing Lambdas"
      ],
      "metadata": {
        "id": "MPuxuNwqF-1V"
      }
    },
    {
      "cell_type": "code",
      "source": [
        "import unittest"
      ],
      "metadata": {
        "id": "Ona2rBeFGAQG"
      },
      "execution_count": null,
      "outputs": []
    },
    {
      "cell_type": "code",
      "source": [
        "addtwo = lambda x: x + 2"
      ],
      "metadata": {
        "id": "MtHEdBH9GAN2"
      },
      "execution_count": null,
      "outputs": []
    },
    {
      "cell_type": "code",
      "source": [
        "class LambdaTest(unittest.TestCase):\n",
        "  def test_add_two(self):\n",
        "    self.assertEqual(addtwo(2), 4)\n",
        "\n",
        "  def test_add_two_point_two(self):\n",
        "    self.assertEqual(addtwo(2.2), 4.2)\n",
        "\n",
        "  def test_add_three(self):\n",
        "    # Should fail\n",
        "    self.assertEqual(addtwo(3), 6)"
      ],
      "metadata": {
        "id": "49NhWMftGALu"
      },
      "execution_count": null,
      "outputs": []
    },
    {
      "cell_type": "markdown",
      "source": [
        "# Cryptic Style"
      ],
      "metadata": {
        "id": "thdMxPTtHrPN"
      }
    },
    {
      "cell_type": "code",
      "source": [
        "(lambda _: list(map(lambda _: _ // 2, _)))([1,2,3,4,5,6,7,8,9,10])"
      ],
      "metadata": {
        "colab": {
          "base_uri": "https://localhost:8080/"
        },
        "id": "lwJmsuYNGAG9",
        "outputId": "17b3e0d7-e897-4ede-d404-112021cde16a"
      },
      "execution_count": null,
      "outputs": [
        {
          "output_type": "execute_result",
          "data": {
            "text/plain": [
              "[0, 1, 1, 2, 2, 3, 3, 4, 4, 5]"
            ]
          },
          "metadata": {},
          "execution_count": 14
        }
      ]
    },
    {
      "cell_type": "markdown",
      "source": [
        "The underscore (_) refers to a variable that you don’t need to refer to explicitly. But in this example, three _ refer to different variables."
      ],
      "metadata": {
        "id": "N6--0rklIFrm"
      }
    },
    {
      "cell_type": "code",
      "source": [
        "(lambda some_list: list(map(lambda n: n // 2, some_list)))([1,2,3,4,5,6,7,8,9,10])"
      ],
      "metadata": {
        "colab": {
          "base_uri": "https://localhost:8080/"
        },
        "id": "aVm1jidkIBkz",
        "outputId": "aac5e802-9f98-4c84-f3d9-7a7f1c0aaf5f"
      },
      "execution_count": null,
      "outputs": [
        {
          "output_type": "execute_result",
          "data": {
            "text/plain": [
              "[0, 1, 1, 2, 2, 3, 3, 4, 4, 5]"
            ]
          },
          "metadata": {},
          "execution_count": 15
        }
      ]
    },
    {
      "cell_type": "code",
      "source": [
        "def div_items(some_list):\n",
        "  div_by_two = lambda n: n // 2\n",
        "  return map(div_by_two, some_list)"
      ],
      "metadata": {
        "id": "FQNQ7RcVIQsu"
      },
      "execution_count": null,
      "outputs": []
    },
    {
      "cell_type": "code",
      "source": [
        "list(div_items([1,2,3,4,5,6,7,8,9,10]))"
      ],
      "metadata": {
        "colab": {
          "base_uri": "https://localhost:8080/"
        },
        "id": "TkhD57ZfITOn",
        "outputId": "62b37047-40ec-4a73-9f57-f59845455d4f"
      },
      "execution_count": null,
      "outputs": [
        {
          "output_type": "execute_result",
          "data": {
            "text/plain": [
              "[0, 1, 1, 2, 2, 3, 3, 4, 4, 5]"
            ]
          },
          "metadata": {},
          "execution_count": 18
        }
      ]
    },
    {
      "cell_type": "markdown",
      "source": [
        "# Python Classes"
      ],
      "metadata": {
        "id": "veuZkTVx1YNe"
      }
    },
    {
      "cell_type": "code",
      "source": [
        "class Car:\n",
        "  \"\"\"Car with methods as lambda functions.\"\"\"\n",
        "  def __init__(self, brand, year):\n",
        "    self.brand = brand\n",
        "    self.year = year\n",
        "\n",
        "  brand = property(lambda self: getattr(self, '_brand'),\n",
        "                   lambda self, value: setattr(self, '_brand', value))\n",
        "\n",
        "  year = property(lambda self: getattr(self, '_year'),\n",
        "                  lambda self, value: setattr(self, '_year', value))\n",
        "\n",
        "  __str__ = lambda self: f'{self.brand} {self.year}'  # 1: error E731\n",
        "\n",
        "  honk = lambda self: print('Honk!')     # 2: error E731"
      ],
      "metadata": {
        "id": "-dX1Xi191ZmW"
      },
      "execution_count": 1,
      "outputs": []
    }
  ]
}