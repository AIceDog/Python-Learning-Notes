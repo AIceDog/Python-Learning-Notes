{
  "nbformat": 4,
  "nbformat_minor": 0,
  "metadata": {
    "colab": {
      "provenance": [],
      "collapsed_sections": [],
      "authorship_tag": "ABX9TyOQuTEdtRLZS1DSbQt5hsRG",
      "include_colab_link": true
    },
    "kernelspec": {
      "name": "python3",
      "display_name": "Python 3"
    },
    "language_info": {
      "name": "python"
    }
  },
  "cells": [
    {
      "cell_type": "markdown",
      "metadata": {
        "id": "view-in-github",
        "colab_type": "text"
      },
      "source": [
        "<a href=\"https://colab.research.google.com/github/AIceDog/Python-Learning-Notes/blob/master/np_delete.ipynb\" target=\"_parent\"><img src=\"https://colab.research.google.com/assets/colab-badge.svg\" alt=\"Open In Colab\"/></a>"
      ]
    },
    {
      "cell_type": "code",
      "execution_count": 8,
      "metadata": {
        "id": "xgjf21O5gvOR"
      },
      "outputs": [],
      "source": [
        "import numpy as np\n",
        "\n",
        "_array = np.array([[[[0, 0], [1, 1], [2, 2], [3, 3], [4, 4], [5, 5]],\n",
        "                    [[0, 0], [1, 1], [2, 2], [3, 3], [4, 4], [5, 5]],\n",
        "                    [[0, 0], [1, 1], [2, 2], [3, 3], [4, 4], [5, 5]]],\n",
        "                  \n",
        "                   [[[0, 0], [1, 1], [2, 2], [3, 3], [4, 4], [5, 5]],\n",
        "                    [[0, 0], [1, 1], [2, 2], [3, 3], [4, 4], [5, 5]],\n",
        "                    [[0, 0], [1, 1], [2, 2], [3, 3], [4, 4], [5, 5]]],\n",
        "                  \n",
        "                   [[[0, 0], [1, 1], [2, 2], [3, 3], [4, 4], [5, 5]],\n",
        "                    [[0, 0], [1, 1], [2, 2], [3, 3], [4, 4], [5, 5]],\n",
        "                    [[0, 0], [1, 1], [2, 2], [3, 3], [4, 4], [5, 5]]]]\n",
        "                  )"
      ]
    },
    {
      "cell_type": "code",
      "source": [
        "_array.shape"
      ],
      "metadata": {
        "colab": {
          "base_uri": "https://localhost:8080/"
        },
        "id": "De-R3i46g1Vh",
        "outputId": "f11f20cf-a84b-48c8-db12-29c6710331f5"
      },
      "execution_count": 9,
      "outputs": [
        {
          "output_type": "execute_result",
          "data": {
            "text/plain": [
              "(3, 3, 6, 2)"
            ]
          },
          "metadata": {},
          "execution_count": 9
        }
      ]
    },
    {
      "cell_type": "code",
      "source": [
        "for i in range(len(_array)):\n",
        "    for j in range(len(_array[i])):\n",
        "      print(_array[i][j].shape)"
      ],
      "metadata": {
        "colab": {
          "base_uri": "https://localhost:8080/"
        },
        "id": "m7akkc9gg3Og",
        "outputId": "bf8d2ebd-842a-43c5-d92e-90454f5aa26e"
      },
      "execution_count": 10,
      "outputs": [
        {
          "output_type": "stream",
          "name": "stdout",
          "text": [
            "(6, 2)\n",
            "(6, 2)\n",
            "(6, 2)\n",
            "(6, 2)\n",
            "(6, 2)\n",
            "(6, 2)\n",
            "(6, 2)\n",
            "(6, 2)\n",
            "(6, 2)\n"
          ]
        }
      ]
    },
    {
      "cell_type": "code",
      "source": [
        "_array = np.delete(_array, 2, 2)\n",
        "_array"
      ],
      "metadata": {
        "colab": {
          "base_uri": "https://localhost:8080/"
        },
        "id": "JzlgjvCzg473",
        "outputId": "02ed6342-02c0-4253-a887-b59728e2ccbe"
      },
      "execution_count": 11,
      "outputs": [
        {
          "output_type": "execute_result",
          "data": {
            "text/plain": [
              "array([[[[0, 0],\n",
              "         [1, 1],\n",
              "         [3, 3],\n",
              "         [4, 4],\n",
              "         [5, 5]],\n",
              "\n",
              "        [[0, 0],\n",
              "         [1, 1],\n",
              "         [3, 3],\n",
              "         [4, 4],\n",
              "         [5, 5]],\n",
              "\n",
              "        [[0, 0],\n",
              "         [1, 1],\n",
              "         [3, 3],\n",
              "         [4, 4],\n",
              "         [5, 5]]],\n",
              "\n",
              "\n",
              "       [[[0, 0],\n",
              "         [1, 1],\n",
              "         [3, 3],\n",
              "         [4, 4],\n",
              "         [5, 5]],\n",
              "\n",
              "        [[0, 0],\n",
              "         [1, 1],\n",
              "         [3, 3],\n",
              "         [4, 4],\n",
              "         [5, 5]],\n",
              "\n",
              "        [[0, 0],\n",
              "         [1, 1],\n",
              "         [3, 3],\n",
              "         [4, 4],\n",
              "         [5, 5]]],\n",
              "\n",
              "\n",
              "       [[[0, 0],\n",
              "         [1, 1],\n",
              "         [3, 3],\n",
              "         [4, 4],\n",
              "         [5, 5]],\n",
              "\n",
              "        [[0, 0],\n",
              "         [1, 1],\n",
              "         [3, 3],\n",
              "         [4, 4],\n",
              "         [5, 5]],\n",
              "\n",
              "        [[0, 0],\n",
              "         [1, 1],\n",
              "         [3, 3],\n",
              "         [4, 4],\n",
              "         [5, 5]]]])"
            ]
          },
          "metadata": {},
          "execution_count": 11
        }
      ]
    },
    {
      "cell_type": "code",
      "source": [
        "idx = [1, 0, 3, 4, 2]\n",
        "for i in range(len(_array)):\n",
        "    for j in range(len(_array[i])):\n",
        "      _array[i][j] = _array[i][j][idx]"
      ],
      "metadata": {
        "id": "NqcrcM_0g6KW"
      },
      "execution_count": 12,
      "outputs": []
    },
    {
      "cell_type": "code",
      "source": [
        "_array"
      ],
      "metadata": {
        "colab": {
          "base_uri": "https://localhost:8080/"
        },
        "id": "-Nrqq4JMg7Hf",
        "outputId": "0ea0e02f-3cd7-411c-ac53-eb77b59712e8"
      },
      "execution_count": 13,
      "outputs": [
        {
          "output_type": "execute_result",
          "data": {
            "text/plain": [
              "array([[[[1, 1],\n",
              "         [0, 0],\n",
              "         [4, 4],\n",
              "         [5, 5],\n",
              "         [3, 3]],\n",
              "\n",
              "        [[1, 1],\n",
              "         [0, 0],\n",
              "         [4, 4],\n",
              "         [5, 5],\n",
              "         [3, 3]],\n",
              "\n",
              "        [[1, 1],\n",
              "         [0, 0],\n",
              "         [4, 4],\n",
              "         [5, 5],\n",
              "         [3, 3]]],\n",
              "\n",
              "\n",
              "       [[[1, 1],\n",
              "         [0, 0],\n",
              "         [4, 4],\n",
              "         [5, 5],\n",
              "         [3, 3]],\n",
              "\n",
              "        [[1, 1],\n",
              "         [0, 0],\n",
              "         [4, 4],\n",
              "         [5, 5],\n",
              "         [3, 3]],\n",
              "\n",
              "        [[1, 1],\n",
              "         [0, 0],\n",
              "         [4, 4],\n",
              "         [5, 5],\n",
              "         [3, 3]]],\n",
              "\n",
              "\n",
              "       [[[1, 1],\n",
              "         [0, 0],\n",
              "         [4, 4],\n",
              "         [5, 5],\n",
              "         [3, 3]],\n",
              "\n",
              "        [[1, 1],\n",
              "         [0, 0],\n",
              "         [4, 4],\n",
              "         [5, 5],\n",
              "         [3, 3]],\n",
              "\n",
              "        [[1, 1],\n",
              "         [0, 0],\n",
              "         [4, 4],\n",
              "         [5, 5],\n",
              "         [3, 3]]]])"
            ]
          },
          "metadata": {},
          "execution_count": 13
        }
      ]
    },
    {
      "cell_type": "code",
      "source": [],
      "metadata": {
        "id": "jsZjiIW7jMv_"
      },
      "execution_count": null,
      "outputs": []
    },
    {
      "cell_type": "code",
      "source": [],
      "metadata": {
        "id": "Zy22EHE3jMro"
      },
      "execution_count": null,
      "outputs": []
    },
    {
      "cell_type": "code",
      "source": [
        "_list_ = []\n",
        "\n",
        "_array1 = np.array([[[0, 0], [1, 1], [2, 2], [3, 3], [4, 4], [5, 5]],\n",
        "                    [[0, 0], [1, 1], [2, 2], [3, 3], [4, 4], [5, 5]],\n",
        "                    [[0, 0], [1, 1], [2, 2], [3, 3], [4, 4], [5, 5]]])\n",
        "\n",
        "_array2 = np.array([[[0, 0], [1, 1], [2, 2], [3, 3], [4, 4], [5, 5]],\n",
        "                    [[0, 0], [1, 1], [2, 2], [3, 3], [4, 4], [5, 5]],\n",
        "                    [[0, 0], [1, 1], [2, 2], [3, 3], [4, 4], [5, 5]]])\n",
        "\n",
        "_array3 = np.array([[[0, 0], [1, 1], [2, 2], [3, 3], [4, 4], [5, 5]],\n",
        "                    [[0, 0], [1, 1], [2, 2], [3, 3], [4, 4], [5, 5]],\n",
        "                    [[0, 0], [1, 1], [2, 2], [3, 3], [4, 4], [5, 5]]])\n",
        "\n",
        "_list_.append(_array1)\n",
        "_list_.append(_array2)\n",
        "_list_.append(_array3)"
      ],
      "metadata": {
        "id": "EHy6uhK_jMpN"
      },
      "execution_count": 14,
      "outputs": []
    },
    {
      "cell_type": "code",
      "source": [
        "_list_[0] = np.delete(_list_[0], 2, 1)"
      ],
      "metadata": {
        "id": "LtmEGP4PjMmz"
      },
      "execution_count": 15,
      "outputs": []
    },
    {
      "cell_type": "code",
      "source": [
        "_list_"
      ],
      "metadata": {
        "colab": {
          "base_uri": "https://localhost:8080/"
        },
        "id": "XrL2dOqcjmLv",
        "outputId": "70794279-b308-4fee-b14c-d05d8f709825"
      },
      "execution_count": 16,
      "outputs": [
        {
          "output_type": "execute_result",
          "data": {
            "text/plain": [
              "[array([[[0, 0],\n",
              "         [1, 1],\n",
              "         [3, 3],\n",
              "         [4, 4],\n",
              "         [5, 5]],\n",
              " \n",
              "        [[0, 0],\n",
              "         [1, 1],\n",
              "         [3, 3],\n",
              "         [4, 4],\n",
              "         [5, 5]],\n",
              " \n",
              "        [[0, 0],\n",
              "         [1, 1],\n",
              "         [3, 3],\n",
              "         [4, 4],\n",
              "         [5, 5]]]), array([[[0, 0],\n",
              "         [1, 1],\n",
              "         [2, 2],\n",
              "         [3, 3],\n",
              "         [4, 4],\n",
              "         [5, 5]],\n",
              " \n",
              "        [[0, 0],\n",
              "         [1, 1],\n",
              "         [2, 2],\n",
              "         [3, 3],\n",
              "         [4, 4],\n",
              "         [5, 5]],\n",
              " \n",
              "        [[0, 0],\n",
              "         [1, 1],\n",
              "         [2, 2],\n",
              "         [3, 3],\n",
              "         [4, 4],\n",
              "         [5, 5]]]), array([[[0, 0],\n",
              "         [1, 1],\n",
              "         [2, 2],\n",
              "         [3, 3],\n",
              "         [4, 4],\n",
              "         [5, 5]],\n",
              " \n",
              "        [[0, 0],\n",
              "         [1, 1],\n",
              "         [2, 2],\n",
              "         [3, 3],\n",
              "         [4, 4],\n",
              "         [5, 5]],\n",
              " \n",
              "        [[0, 0],\n",
              "         [1, 1],\n",
              "         [2, 2],\n",
              "         [3, 3],\n",
              "         [4, 4],\n",
              "         [5, 5]]])]"
            ]
          },
          "metadata": {},
          "execution_count": 16
        }
      ]
    }
  ]
}