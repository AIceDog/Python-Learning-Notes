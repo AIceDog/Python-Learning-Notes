{
  "nbformat": 4,
  "nbformat_minor": 0,
  "metadata": {
    "colab": {
      "name": "Hash Table Class.ipynb",
      "provenance": [],
      "collapsed_sections": [],
      "authorship_tag": "ABX9TyNKtx8J2pLbO9S+5DFlbRCJ",
      "include_colab_link": true
    },
    "kernelspec": {
      "name": "python3",
      "display_name": "Python 3"
    },
    "language_info": {
      "name": "python"
    }
  },
  "cells": [
    {
      "cell_type": "markdown",
      "metadata": {
        "id": "view-in-github",
        "colab_type": "text"
      },
      "source": [
        "<a href=\"https://colab.research.google.com/github/AIceDog/Python-Learning-Notes/blob/master/Hash_Table_Class.ipynb\" target=\"_parent\"><img src=\"https://colab.research.google.com/assets/colab-badge.svg\" alt=\"Open In Colab\"/></a>"
      ]
    },
    {
      "cell_type": "code",
      "source": [
        "[[] for _ in range(7)]"
      ],
      "metadata": {
        "colab": {
          "base_uri": "https://localhost:8080/"
        },
        "id": "hRFhVhXXxh7S",
        "outputId": "7dd36281-0764-4190-9f7e-44062bf81e3f"
      },
      "execution_count": 32,
      "outputs": [
        {
          "output_type": "execute_result",
          "data": {
            "text/plain": [
              "[[], [], [], [], [], [], []]"
            ]
          },
          "metadata": {},
          "execution_count": 32
        }
      ]
    },
    {
      "cell_type": "code",
      "source": [
        "hash('333')"
      ],
      "metadata": {
        "colab": {
          "base_uri": "https://localhost:8080/"
        },
        "id": "Wa1uaq8jzWvy",
        "outputId": "2a466ef4-7fa8-4c5d-9396-d9b51ea003da"
      },
      "execution_count": 33,
      "outputs": [
        {
          "output_type": "execute_result",
          "data": {
            "text/plain": [
              "-5950681009892735981"
            ]
          },
          "metadata": {},
          "execution_count": 33
        }
      ]
    },
    {
      "cell_type": "code",
      "source": [
        "hash('3')"
      ],
      "metadata": {
        "colab": {
          "base_uri": "https://localhost:8080/"
        },
        "id": "AgLKjgjpzZpx",
        "outputId": "17ffce3f-67eb-4517-b2f1-a5de2c9b24f2"
      },
      "execution_count": 34,
      "outputs": [
        {
          "output_type": "execute_result",
          "data": {
            "text/plain": [
              "-1956883898789311568"
            ]
          },
          "metadata": {},
          "execution_count": 34
        }
      ]
    },
    {
      "cell_type": "markdown",
      "source": [
        "# Hash Table Class"
      ],
      "metadata": {
        "id": "nlDv-Zw-7crG"
      }
    },
    {
      "cell_type": "code",
      "execution_count": 39,
      "metadata": {
        "id": "wTzNQaSTxRoE"
      },
      "outputs": [],
      "source": [
        "class HashTable:\n",
        "  \n",
        "    # Create empty bucket list of given size\n",
        "    def __init__(self, size):\n",
        "\n",
        "        print('function __init__()')\n",
        "        print('size : ', size, '\\n')\n",
        "\n",
        "        self.size = size\n",
        "        self.hash_table = self.create_buckets()\n",
        "  \n",
        "    def create_buckets(self):\n",
        "\n",
        "        print('function create_buckets()', '\\n')\n",
        "\n",
        "        return [[] for _ in range(self.size)]\n",
        "  \n",
        "    # Insert values into hash map\n",
        "    def set_val(self, key, val):\n",
        "        \n",
        "        print('function set_val()')\n",
        "        print('key : ', key)\n",
        "        print('val : ', val, '\\n')\n",
        "\n",
        "        # Get the index from the key\n",
        "        # using hash function\n",
        "        hashed_key = hash(key) % self.size\n",
        "          \n",
        "        # Get the bucket corresponding to index\n",
        "        bucket = self.hash_table[hashed_key]\n",
        "  \n",
        "        found_key = False\n",
        "        for index, record in enumerate(bucket):\n",
        "            record_key, record_val = record\n",
        "              \n",
        "            # check if the bucket has same key as\n",
        "            # the key to be inserted\n",
        "            if record_key == key:\n",
        "                found_key = True\n",
        "                break\n",
        "  \n",
        "        # If the bucket has same key as the key to be inserted,\n",
        "        # Update the key value\n",
        "        # Otherwise append the new key-value pair to the bucket\n",
        "        if found_key:\n",
        "            bucket[index] = (key, val)\n",
        "        else:\n",
        "            bucket.append((key, val))\n",
        "  \n",
        "    # Return searched value with specific key\n",
        "    def get_val(self, key):\n",
        "        \n",
        "        print('function get_val()')\n",
        "        print('key : ', key)\n",
        "\n",
        "        # Get the index from the key using\n",
        "        # hash function\n",
        "        hashed_key = hash(key) % self.size\n",
        "          \n",
        "        # Get the bucket corresponding to index\n",
        "        bucket = self.hash_table[hashed_key]\n",
        "  \n",
        "        found_key = False\n",
        "        for index, record in enumerate(bucket):\n",
        "            record_key, record_val = record\n",
        "              \n",
        "            # check if the bucket has same key as \n",
        "            # the key being searched\n",
        "            if record_key == key:\n",
        "                found_key = True\n",
        "                break\n",
        "  \n",
        "        # If the bucket has same key as the key being searched,\n",
        "        # Return the value found\n",
        "        # Otherwise indicate there was no record found\n",
        "        if found_key:\n",
        "            print()\n",
        "            return record_val\n",
        "        else:\n",
        "            return \"No record found\\n\"\n",
        "  \n",
        "    # Remove a value with specific key\n",
        "    def delete_val(self, key):\n",
        "        \n",
        "        print('function delete_val()')\n",
        "        print('key : ', key, '\\n')\n",
        "\n",
        "        # Get the index from the key using\n",
        "        # hash function\n",
        "        hashed_key = hash(key) % self.size\n",
        "          \n",
        "        # Get the bucket corresponding to index\n",
        "        bucket = self.hash_table[hashed_key]\n",
        "  \n",
        "        found_key = False\n",
        "        for index, record in enumerate(bucket):\n",
        "            record_key, record_val = record\n",
        "              \n",
        "            # check if the bucket has same key as\n",
        "            # the key to be deleted\n",
        "            if record_key == key:\n",
        "                found_key = True\n",
        "                break\n",
        "        if found_key:\n",
        "            bucket.pop(index)\n",
        "        return\n",
        "  \n",
        "    # To print the items of hash map\n",
        "    def __str__(self):\n",
        "\n",
        "        print('function __str__()', '\\n')\n",
        "\n",
        "        return \"\".join(str(item) for item in self.hash_table)"
      ]
    },
    {
      "cell_type": "markdown",
      "source": [
        "# Source Code 1"
      ],
      "metadata": {
        "id": "GX1AGU-08BiE"
      }
    },
    {
      "cell_type": "code",
      "source": [
        "hash_table = HashTable(50)"
      ],
      "metadata": {
        "colab": {
          "base_uri": "https://localhost:8080/"
        },
        "id": "9GuEG_ZuTeEr",
        "outputId": "6238f50d-a4cf-4a98-ea38-0c6fdd8e8ff5"
      },
      "execution_count": 40,
      "outputs": [
        {
          "output_type": "stream",
          "name": "stdout",
          "text": [
            "function __init__()\n",
            "size :  50 \n",
            "\n",
            "function create_buckets() \n",
            "\n"
          ]
        }
      ]
    },
    {
      "cell_type": "markdown",
      "source": [
        "# Analysis 1"
      ],
      "metadata": {
        "id": "DgN2neiq8EHG"
      }
    },
    {
      "cell_type": "code",
      "source": [
        "#@title Default title text\n",
        "_hash_table = [[] for _ in range(50)]\n",
        "print('_hash_table : ', _hash_table)"
      ],
      "metadata": {
        "colab": {
          "base_uri": "https://localhost:8080/"
        },
        "id": "oeQLmrZCTg7l",
        "outputId": "c44d84fa-75b0-4984-a4b7-cd5ac8672fe8"
      },
      "execution_count": 41,
      "outputs": [
        {
          "output_type": "stream",
          "name": "stdout",
          "text": [
            "_hash_table :  [[], [], [], [], [], [], [], [], [], [], [], [], [], [], [], [], [], [], [], [], [], [], [], [], [], [], [], [], [], [], [], [], [], [], [], [], [], [], [], [], [], [], [], [], [], [], [], [], [], []]\n"
          ]
        }
      ]
    },
    {
      "cell_type": "markdown",
      "source": [
        "# Source Code 2"
      ],
      "metadata": {
        "id": "vGQQCxN87TRN"
      }
    },
    {
      "cell_type": "code",
      "source": [
        "# insert some values\n",
        "hash_table.set_val('gfg@example.com', 'some value')\n",
        "print(hash_table)\n",
        "print()"
      ],
      "metadata": {
        "colab": {
          "base_uri": "https://localhost:8080/"
        },
        "id": "pGECMUvA7SqF",
        "outputId": "86cca2f2-9dc6-47d1-fc31-0fcc9cbcc899"
      },
      "execution_count": 42,
      "outputs": [
        {
          "output_type": "stream",
          "name": "stdout",
          "text": [
            "function set_val()\n",
            "key :  gfg@example.com\n",
            "val :  some value \n",
            "\n",
            "function __str__() \n",
            "\n",
            "[][][][][][][][][][][][][][][][][][][][][][][][][][][][][][][][][][][][][][('gfg@example.com', 'some value')][][][][][][][][][][][][]\n",
            "\n"
          ]
        }
      ]
    },
    {
      "cell_type": "markdown",
      "source": [
        "# Analysis 2"
      ],
      "metadata": {
        "id": "1-JbYVc77Vk3"
      }
    },
    {
      "cell_type": "code",
      "source": [
        "_key = 'gfg@example.com'\n",
        "_val = 'some value'"
      ],
      "metadata": {
        "id": "tAsE4p5hUKCp"
      },
      "execution_count": 44,
      "outputs": []
    },
    {
      "cell_type": "code",
      "source": [
        "print(hash('gfg@example.com'))\n",
        "_size = 50"
      ],
      "metadata": {
        "colab": {
          "base_uri": "https://localhost:8080/"
        },
        "id": "DHYDubs65EWl",
        "outputId": "4917e6cd-7363-4719-efe1-1da83fc35190"
      },
      "execution_count": 45,
      "outputs": [
        {
          "output_type": "stream",
          "name": "stdout",
          "text": [
            "-9158029885669860413\n"
          ]
        }
      ]
    },
    {
      "cell_type": "code",
      "source": [
        "_hashed_key = hash(_key) % _size\n",
        "print('_hashed_key : ', _hashed_key)"
      ],
      "metadata": {
        "colab": {
          "base_uri": "https://localhost:8080/"
        },
        "id": "gjlf5Kxo3i8z",
        "outputId": "29bdc56c-a437-46bb-9a18-68f1e35c3c3d"
      },
      "execution_count": 46,
      "outputs": [
        {
          "output_type": "stream",
          "name": "stdout",
          "text": [
            "_hashed_key :  37\n"
          ]
        }
      ]
    },
    {
      "cell_type": "code",
      "source": [
        "_bucket = _hash_table[_hashed_key]\n",
        "print('_bucket : ', _bucket)"
      ],
      "metadata": {
        "colab": {
          "base_uri": "https://localhost:8080/"
        },
        "id": "sgHoSfTt5SU2",
        "outputId": "f2a1f8d1-0e35-4cbd-ed3f-67c9fb25342c"
      },
      "execution_count": 47,
      "outputs": [
        {
          "output_type": "stream",
          "name": "stdout",
          "text": [
            "_bucket :  []\n"
          ]
        }
      ]
    },
    {
      "cell_type": "code",
      "source": [
        "_found_key = False"
      ],
      "metadata": {
        "id": "YcGiP4Yt5sVo"
      },
      "execution_count": 48,
      "outputs": []
    },
    {
      "cell_type": "code",
      "source": [
        "for index, record in enumerate(_bucket):\n",
        "    print('index : ', index)\n",
        "    print('record : ', record)\n",
        "    record_key, record_val = record\n",
        "              \n",
        "    # check if the bucket has same key as\n",
        "    # the key to be inserted\n",
        "    if record_key == _key:\n",
        "        print('record_key == _key')\n",
        "        found_key = True\n",
        "        break"
      ],
      "metadata": {
        "id": "jI7C649n5sTI"
      },
      "execution_count": 49,
      "outputs": []
    },
    {
      "cell_type": "code",
      "source": [
        "# If the bucket has same key as the key to be inserted,\n",
        "# Update the key value\n",
        "# Otherwise append the new key-value pair to the bucket\n",
        "if _found_key:\n",
        "    _bucket[index] = (_key, _val)\n",
        "else:\n",
        "    _bucket.append((_key, _val))\n",
        "\n",
        "print(_bucket)"
      ],
      "metadata": {
        "colab": {
          "base_uri": "https://localhost:8080/"
        },
        "id": "AAGBo37c5sQo",
        "outputId": "51efc9e8-dd1d-4381-8705-7c5a05162aaa"
      },
      "execution_count": 50,
      "outputs": [
        {
          "output_type": "stream",
          "name": "stdout",
          "text": [
            "[('gfg@example.com', 'some value')]\n"
          ]
        }
      ]
    },
    {
      "cell_type": "code",
      "source": [
        "print('_hash_table : ', _hash_table)"
      ],
      "metadata": {
        "colab": {
          "base_uri": "https://localhost:8080/"
        },
        "id": "YZ5lbvPP5sOA",
        "outputId": "2d4ffeec-cd5a-4eaa-ecad-bcfa7426f434"
      },
      "execution_count": 51,
      "outputs": [
        {
          "output_type": "stream",
          "name": "stdout",
          "text": [
            "_hash_table :  [[], [], [], [], [], [], [], [], [], [], [], [], [], [], [], [], [], [], [], [], [], [], [], [], [], [], [], [], [], [], [], [], [], [], [], [], [], [('gfg@example.com', 'some value')], [], [], [], [], [], [], [], [], [], [], [], []]\n"
          ]
        }
      ]
    },
    {
      "cell_type": "markdown",
      "source": [
        "# Source Code 3"
      ],
      "metadata": {
        "id": "67zXV6m_7j7A"
      }
    },
    {
      "cell_type": "code",
      "source": [
        "hash_table.set_val('portal@example.com', 'some other value')\n",
        "print(hash_table)\n",
        "print()"
      ],
      "metadata": {
        "colab": {
          "base_uri": "https://localhost:8080/"
        },
        "id": "qT2L5LId73Ea",
        "outputId": "2116a68f-b104-4b8c-e88d-b09f3dbe6cf3"
      },
      "execution_count": 52,
      "outputs": [
        {
          "output_type": "stream",
          "name": "stdout",
          "text": [
            "function set_val()\n",
            "key :  portal@example.com\n",
            "val :  some other value \n",
            "\n",
            "function __str__() \n",
            "\n",
            "[][('portal@example.com', 'some other value')][][][][][][][][][][][][][][][][][][][][][][][][][][][][][][][][][][][][('gfg@example.com', 'some value')][][][][][][][][][][][][]\n",
            "\n"
          ]
        }
      ]
    },
    {
      "cell_type": "markdown",
      "source": [
        "# Analysis 3"
      ],
      "metadata": {
        "id": "C6EGwQd37pSM"
      }
    },
    {
      "cell_type": "code",
      "source": [
        "_key_2 = 'portal@example.com'\n",
        "_val_2 = 'some other value'"
      ],
      "metadata": {
        "id": "38Gi-eOt75UP"
      },
      "execution_count": 60,
      "outputs": []
    },
    {
      "cell_type": "code",
      "source": [
        "print(hash(_key_2))\n",
        "_size = 50"
      ],
      "metadata": {
        "colab": {
          "base_uri": "https://localhost:8080/"
        },
        "id": "CkFyah5i75R_",
        "outputId": "e87d1c62-827a-4892-9aae-6b2b8ed391e9"
      },
      "execution_count": 54,
      "outputs": [
        {
          "output_type": "stream",
          "name": "stdout",
          "text": [
            "4179569580353105751\n"
          ]
        }
      ]
    },
    {
      "cell_type": "code",
      "source": [
        "_hashed_key_2 = hash(_key_2) % _size\n",
        "print('_hashed_key_2 : ', _hashed_key_2)"
      ],
      "metadata": {
        "colab": {
          "base_uri": "https://localhost:8080/"
        },
        "id": "n3LSAdAl75Pv",
        "outputId": "51ab8c1c-ba3f-4c47-d2c9-e23383fd75ab"
      },
      "execution_count": 55,
      "outputs": [
        {
          "output_type": "stream",
          "name": "stdout",
          "text": [
            "_hashed_key_2 :  1\n"
          ]
        }
      ]
    },
    {
      "cell_type": "code",
      "source": [
        "_bucket_2 = _hash_table[_hashed_key_2]\n",
        "print('_bucket : ', _bucket_2)"
      ],
      "metadata": {
        "colab": {
          "base_uri": "https://localhost:8080/"
        },
        "id": "ZmjbXshL75NP",
        "outputId": "13f9db1d-ae41-4a1d-e531-76d83c99a4cf"
      },
      "execution_count": 56,
      "outputs": [
        {
          "output_type": "stream",
          "name": "stdout",
          "text": [
            "_bucket :  []\n"
          ]
        }
      ]
    },
    {
      "cell_type": "code",
      "source": [
        "_found_key = False"
      ],
      "metadata": {
        "id": "lAg1wKsw75K2"
      },
      "execution_count": 57,
      "outputs": []
    },
    {
      "cell_type": "code",
      "source": [
        "for index, record in enumerate(_bucket_2):\n",
        "    print('index : ', index)\n",
        "    print('record : ', record)\n",
        "    record_key, record_val = record\n",
        "              \n",
        "    # check if the bucket has same key as\n",
        "    # the key to be inserted\n",
        "    if record_key == _key:\n",
        "        print('record_key == _key')\n",
        "        found_key = True\n",
        "        break"
      ],
      "metadata": {
        "id": "zojYjJs4WNNC"
      },
      "execution_count": 58,
      "outputs": []
    },
    {
      "cell_type": "code",
      "source": [
        "# If the bucket has same key as the key to be inserted,\n",
        "# Update the key value\n",
        "# Otherwise append the new key-value pair to the bucket\n",
        "if _found_key:\n",
        "    _bucket_2[index] = (_key_2, _val_2)\n",
        "else:\n",
        "    _bucket_2.append((_key_2, _val_2))\n",
        "\n",
        "print(_bucket_2)"
      ],
      "metadata": {
        "colab": {
          "base_uri": "https://localhost:8080/"
        },
        "id": "3Nx2wMkPWNKo",
        "outputId": "91d6993e-a510-41ec-d7f1-bbaa4696deb4"
      },
      "execution_count": 61,
      "outputs": [
        {
          "output_type": "stream",
          "name": "stdout",
          "text": [
            "[('portal@example.com', 'some other value')]\n"
          ]
        }
      ]
    },
    {
      "cell_type": "code",
      "source": [
        "print('_hash_table : ', _hash_table)"
      ],
      "metadata": {
        "colab": {
          "base_uri": "https://localhost:8080/"
        },
        "id": "EP8yFMLnWNII",
        "outputId": "c5651770-399d-4848-a344-e0bcbbf2abfa"
      },
      "execution_count": 62,
      "outputs": [
        {
          "output_type": "stream",
          "name": "stdout",
          "text": [
            "_hash_table :  [[], [('portal@example.com', 'some other value')], [], [], [], [], [], [], [], [], [], [], [], [], [], [], [], [], [], [], [], [], [], [], [], [], [], [], [], [], [], [], [], [], [], [], [], [('gfg@example.com', 'some value')], [], [], [], [], [], [], [], [], [], [], [], []]\n"
          ]
        }
      ]
    },
    {
      "cell_type": "markdown",
      "source": [
        "# Source Code 4"
      ],
      "metadata": {
        "id": "MhbN_bmqW90Z"
      }
    },
    {
      "cell_type": "code",
      "source": [
        "# search/access a record with key\n",
        "print(hash_table.get_val('portal@example.com'))\n",
        "print()"
      ],
      "metadata": {
        "colab": {
          "base_uri": "https://localhost:8080/"
        },
        "id": "yrhydCErXYAb",
        "outputId": "c2f58efa-de72-4515-ac88-d2c861bfeda6"
      },
      "execution_count": 63,
      "outputs": [
        {
          "output_type": "stream",
          "name": "stdout",
          "text": [
            "function get_val()\n",
            "key :  portal@example.com\n",
            "\n",
            "some other value\n",
            "\n"
          ]
        }
      ]
    },
    {
      "cell_type": "markdown",
      "source": [
        "# Analysis 4"
      ],
      "metadata": {
        "id": "1DB-7_iPXV-q"
      }
    },
    {
      "cell_type": "code",
      "source": [
        "_key_4 = 'portal@example.com'\n",
        "_hashed_key_4 = hash(_key_4) % 50\n",
        "print('_hashed_key_4 : ', _hashed_key_4)"
      ],
      "metadata": {
        "colab": {
          "base_uri": "https://localhost:8080/"
        },
        "id": "3Cls5BgNXaq1",
        "outputId": "5b980566-1c2f-41d0-dc4d-bf675c9b7b19"
      },
      "execution_count": 65,
      "outputs": [
        {
          "output_type": "stream",
          "name": "stdout",
          "text": [
            "_hashed_key_4 :  1\n"
          ]
        }
      ]
    },
    {
      "cell_type": "code",
      "source": [
        "_bucket_4 = _hash_table[_hashed_key_4]\n",
        "print('_bucket_4 : ', _bucket_4)"
      ],
      "metadata": {
        "colab": {
          "base_uri": "https://localhost:8080/"
        },
        "id": "R6M4gTBiXaoV",
        "outputId": "69ef8706-7882-466b-9abd-93372c0169dc"
      },
      "execution_count": 66,
      "outputs": [
        {
          "output_type": "stream",
          "name": "stdout",
          "text": [
            "_bucket_4 :  [('portal@example.com', 'some other value')]\n"
          ]
        }
      ]
    },
    {
      "cell_type": "code",
      "source": [
        "_found_key = False\n",
        "for index, record in enumerate(_bucket_4):\n",
        "    print('index : ', index)\n",
        "    print('record : ', record)\n",
        "    record_key, record_val = record\n",
        "\n",
        "    # check if the bucket has same key as \n",
        "    # the key being searched\n",
        "    if record_key == _key_4:\n",
        "        print('record_key == _key_4')\n",
        "        found_key = True\n",
        "        break"
      ],
      "metadata": {
        "colab": {
          "base_uri": "https://localhost:8080/"
        },
        "id": "GJmy_-zxXal-",
        "outputId": "b8cf3d83-efa1-4ade-c245-6614410b288a"
      },
      "execution_count": 68,
      "outputs": [
        {
          "output_type": "stream",
          "name": "stdout",
          "text": [
            "index :  0\n",
            "record :  ('portal@example.com', 'some other value')\n",
            "record_key == _key_4\n"
          ]
        }
      ]
    },
    {
      "cell_type": "code",
      "source": [
        "print(record_val)"
      ],
      "metadata": {
        "colab": {
          "base_uri": "https://localhost:8080/"
        },
        "id": "nXzeowQBXajl",
        "outputId": "693781d0-db71-4a40-f708-463de1a0b955"
      },
      "execution_count": 69,
      "outputs": [
        {
          "output_type": "stream",
          "name": "stdout",
          "text": [
            "some other value\n"
          ]
        }
      ]
    },
    {
      "cell_type": "markdown",
      "source": [
        "# Source Code 5"
      ],
      "metadata": {
        "id": "w8GOgHLwY6El"
      }
    },
    {
      "cell_type": "code",
      "source": [
        "# delete or remove a value\n",
        "hash_table.delete_val('portal@example.com')\n",
        "print(hash_table)"
      ],
      "metadata": {
        "colab": {
          "base_uri": "https://localhost:8080/"
        },
        "id": "FdXrcmv5Y_pN",
        "outputId": "ff62c2b6-8c5d-43d0-edfa-f454799b2b27"
      },
      "execution_count": 70,
      "outputs": [
        {
          "output_type": "stream",
          "name": "stdout",
          "text": [
            "function delete_val()\n",
            "key :  portal@example.com \n",
            "\n",
            "function __str__() \n",
            "\n",
            "[][][][][][][][][][][][][][][][][][][][][][][][][][][][][][][][][][][][][][('gfg@example.com', 'some value')][][][][][][][][][][][][]\n"
          ]
        }
      ]
    },
    {
      "cell_type": "markdown",
      "source": [
        "# Analysis 5"
      ],
      "metadata": {
        "id": "GkvEqDo5Y8rv"
      }
    },
    {
      "cell_type": "markdown",
      "source": [
        "    # Remove a value with specific key\n",
        "    def delete_val(self, key):\n",
        "        \n",
        "        print('function delete_val()')\n",
        "        print('key : ', key, '\\n')\n",
        "\n",
        "        # Get the index from the key using\n",
        "        # hash function\n",
        "        hashed_key = hash(key) % self.size\n",
        "          \n",
        "        # Get the bucket corresponding to index\n",
        "        bucket = self.hash_table[hashed_key]\n",
        "  \n",
        "        found_key = False\n",
        "        for index, record in enumerate(bucket):\n",
        "            record_key, record_val = record\n",
        "              \n",
        "            # check if the bucket has same key as\n",
        "            # the key to be deleted\n",
        "            if record_key == key:\n",
        "                found_key = True\n",
        "                break\n",
        "        if found_key:\n",
        "            bucket.pop(index)\n",
        "        return"
      ],
      "metadata": {
        "id": "ay5UHC1cajqr"
      }
    },
    {
      "cell_type": "code",
      "source": [
        "_key_5 = 'portal@example.com'\n",
        "_hashed_key_5 = hash(_key_5) % 50\n",
        "print('_hashed_key_5 : ', _hashed_key_5)"
      ],
      "metadata": {
        "colab": {
          "base_uri": "https://localhost:8080/"
        },
        "id": "HkIkKSLYZAGh",
        "outputId": "2906f9a0-cf53-481f-8528-6cbe08ddbd7b"
      },
      "execution_count": 71,
      "outputs": [
        {
          "output_type": "stream",
          "name": "stdout",
          "text": [
            "_hashed_key_5 :  1\n"
          ]
        }
      ]
    },
    {
      "cell_type": "code",
      "source": [
        "_bucket_5 = _hash_table[_hashed_key_5]\n",
        "print('_bucket_5 : ', _bucket_5)"
      ],
      "metadata": {
        "colab": {
          "base_uri": "https://localhost:8080/"
        },
        "id": "XSXjmYH3XahM",
        "outputId": "2c5e3e22-7618-4bf8-d706-6744f6e13525"
      },
      "execution_count": 72,
      "outputs": [
        {
          "output_type": "stream",
          "name": "stdout",
          "text": [
            "_bucket_5 :  [('portal@example.com', 'some other value')]\n"
          ]
        }
      ]
    },
    {
      "cell_type": "code",
      "source": [
        "_found_key = False\n",
        "for index, record in enumerate(_bucket_5):\n",
        "    record_key, record_val = record\n",
        "\n",
        "    # check if the bucket has same key as\n",
        "    # the key to be deleted\n",
        "    if record_key == _key_5:\n",
        "        _found_key = True\n",
        "        break\n",
        "if found_key:\n",
        "    _bucket_5.pop(index)"
      ],
      "metadata": {
        "id": "FxN7RCcbXae1"
      },
      "execution_count": 73,
      "outputs": []
    },
    {
      "cell_type": "code",
      "source": [
        "print('_hash_table : ', _hash_table)"
      ],
      "metadata": {
        "colab": {
          "base_uri": "https://localhost:8080/"
        },
        "id": "4ScptXYPXaa8",
        "outputId": "e59de1ed-c5bb-4c53-f047-8ca931d5a162"
      },
      "execution_count": 74,
      "outputs": [
        {
          "output_type": "stream",
          "name": "stdout",
          "text": [
            "_hash_table :  [[], [], [], [], [], [], [], [], [], [], [], [], [], [], [], [], [], [], [], [], [], [], [], [], [], [], [], [], [], [], [], [], [], [], [], [], [], [('gfg@example.com', 'some value')], [], [], [], [], [], [], [], [], [], [], [], []]\n"
          ]
        }
      ]
    }
  ]
}