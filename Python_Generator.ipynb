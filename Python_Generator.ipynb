{
  "nbformat": 4,
  "nbformat_minor": 0,
  "metadata": {
    "colab": {
      "name": "Python-Generator.ipynb",
      "provenance": [],
      "authorship_tag": "ABX9TyMR1PjwxYLimkOXn7Z58lDR",
      "include_colab_link": true
    },
    "kernelspec": {
      "name": "python3",
      "display_name": "Python 3"
    },
    "language_info": {
      "name": "python"
    }
  },
  "cells": [
    {
      "cell_type": "markdown",
      "metadata": {
        "id": "view-in-github",
        "colab_type": "text"
      },
      "source": [
        "<a href=\"https://colab.research.google.com/github/AIceDog/Python-Learning-Notes/blob/master/Python_Generator.ipynb\" target=\"_parent\"><img src=\"https://colab.research.google.com/assets/colab-badge.svg\" alt=\"Open In Colab\"/></a>"
      ]
    },
    {
      "cell_type": "code",
      "source": [
        "import sys"
      ],
      "metadata": {
        "id": "qjM8CI21N8Tm"
      },
      "execution_count": 9,
      "outputs": []
    },
    {
      "cell_type": "code",
      "execution_count": 1,
      "metadata": {
        "id": "u3zxwVhiNMxW"
      },
      "outputs": [],
      "source": [
        "def Generator1():\n",
        "    for i in range(15):\n",
        "      yield i"
      ]
    },
    {
      "cell_type": "code",
      "source": [
        "gen1 = Generator1()\n",
        "gen1"
      ],
      "metadata": {
        "colab": {
          "base_uri": "https://localhost:8080/"
        },
        "id": "hubVTishNmvP",
        "outputId": "723e6fc2-1f01-463e-addd-f99e5277bad5"
      },
      "execution_count": 17,
      "outputs": [
        {
          "output_type": "execute_result",
          "data": {
            "text/plain": [
              "<generator object Generator1 at 0x7fa2c8f63650>"
            ]
          },
          "metadata": {},
          "execution_count": 17
        }
      ]
    },
    {
      "cell_type": "code",
      "source": [
        "for i in range(15):\n",
        "  print(next(gen1))"
      ],
      "metadata": {
        "colab": {
          "base_uri": "https://localhost:8080/"
        },
        "id": "Ge3aykzHNmxp",
        "outputId": "2bba6f30-37ae-4caa-f013-61c031aa4874"
      },
      "execution_count": 8,
      "outputs": [
        {
          "output_type": "stream",
          "name": "stdout",
          "text": [
            "0\n",
            "1\n",
            "2\n",
            "3\n",
            "4\n",
            "5\n",
            "6\n",
            "7\n",
            "8\n",
            "9\n",
            "10\n",
            "11\n",
            "12\n",
            "13\n",
            "14\n"
          ]
        }
      ]
    },
    {
      "cell_type": "code",
      "source": [
        "print(sys.getsizeof(gen1))"
      ],
      "metadata": {
        "colab": {
          "base_uri": "https://localhost:8080/"
        },
        "id": "RBgqKaFuNmzt",
        "outputId": "055599f3-6aac-4f89-dc4d-02e1d052fef1"
      },
      "execution_count": 10,
      "outputs": [
        {
          "output_type": "stream",
          "name": "stdout",
          "text": [
            "128\n"
          ]
        }
      ]
    },
    {
      "cell_type": "code",
      "source": [
        "for e in Generator1():\n",
        "  print(e)"
      ],
      "metadata": {
        "colab": {
          "base_uri": "https://localhost:8080/"
        },
        "id": "MoDsKBwYOqLk",
        "outputId": "a246aa34-b90b-417e-ab3d-6766c80259d8"
      },
      "execution_count": 11,
      "outputs": [
        {
          "output_type": "stream",
          "name": "stdout",
          "text": [
            "0\n",
            "1\n",
            "2\n",
            "3\n",
            "4\n",
            "5\n",
            "6\n",
            "7\n",
            "8\n",
            "9\n",
            "10\n",
            "11\n",
            "12\n",
            "13\n",
            "14\n"
          ]
        }
      ]
    },
    {
      "cell_type": "code",
      "source": [
        "def Generator2():\n",
        "    for i in range(25, 40):\n",
        "      yield i"
      ],
      "metadata": {
        "id": "ua4fUzbTOs36"
      },
      "execution_count": 14,
      "outputs": []
    },
    {
      "cell_type": "code",
      "source": [
        "for (i, j) in zip(Generator1(), Generator2()):\n",
        "  print('i : ', i)\n",
        "  print('j : ', j)"
      ],
      "metadata": {
        "colab": {
          "base_uri": "https://localhost:8080/"
        },
        "id": "yKbsE7Y1QSBR",
        "outputId": "233cca92-ac54-40d8-beff-c9c88b10a030"
      },
      "execution_count": 16,
      "outputs": [
        {
          "output_type": "stream",
          "name": "stdout",
          "text": [
            "i :  0\n",
            "j :  25\n",
            "i :  1\n",
            "j :  26\n",
            "i :  2\n",
            "j :  27\n",
            "i :  3\n",
            "j :  28\n",
            "i :  4\n",
            "j :  29\n",
            "i :  5\n",
            "j :  30\n",
            "i :  6\n",
            "j :  31\n",
            "i :  7\n",
            "j :  32\n",
            "i :  8\n",
            "j :  33\n",
            "i :  9\n",
            "j :  34\n",
            "i :  10\n",
            "j :  35\n",
            "i :  11\n",
            "j :  36\n",
            "i :  12\n",
            "j :  37\n",
            "i :  13\n",
            "j :  38\n",
            "i :  14\n",
            "j :  39\n"
          ]
        }
      ]
    },
    {
      "cell_type": "code",
      "source": [
        "gen1 = Generator1()\n",
        "gen2 = Generator2()"
      ],
      "metadata": {
        "id": "Zq2uMtAIQnNw"
      },
      "execution_count": 19,
      "outputs": []
    },
    {
      "cell_type": "code",
      "source": [
        "for (i, j) in zip(gen1, gen2):\n",
        "  print('i : ', i)\n",
        "  print('j : ', j)"
      ],
      "metadata": {
        "colab": {
          "base_uri": "https://localhost:8080/"
        },
        "id": "fPJ5LmgQQkbR",
        "outputId": "fdc363bc-7f40-49fc-f63d-216f4950fa9f"
      },
      "execution_count": 20,
      "outputs": [
        {
          "output_type": "stream",
          "name": "stdout",
          "text": [
            "i :  0\n",
            "j :  25\n",
            "i :  1\n",
            "j :  26\n",
            "i :  2\n",
            "j :  27\n",
            "i :  3\n",
            "j :  28\n",
            "i :  4\n",
            "j :  29\n",
            "i :  5\n",
            "j :  30\n",
            "i :  6\n",
            "j :  31\n",
            "i :  7\n",
            "j :  32\n",
            "i :  8\n",
            "j :  33\n",
            "i :  9\n",
            "j :  34\n",
            "i :  10\n",
            "j :  35\n",
            "i :  11\n",
            "j :  36\n",
            "i :  12\n",
            "j :  37\n",
            "i :  13\n",
            "j :  38\n",
            "i :  14\n",
            "j :  39\n"
          ]
        }
      ]
    }
  ]
}