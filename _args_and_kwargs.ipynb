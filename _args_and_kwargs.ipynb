{
  "nbformat": 4,
  "nbformat_minor": 0,
  "metadata": {
    "colab": {
      "provenance": [],
      "collapsed_sections": [],
      "authorship_tag": "ABX9TyMjSnnoSFJrNLyvdW665wTK",
      "include_colab_link": true
    },
    "kernelspec": {
      "name": "python3",
      "display_name": "Python 3"
    },
    "language_info": {
      "name": "python"
    }
  },
  "cells": [
    {
      "cell_type": "markdown",
      "metadata": {
        "id": "view-in-github",
        "colab_type": "text"
      },
      "source": [
        "<a href=\"https://colab.research.google.com/github/AIceDog/Python-Learning-Notes/blob/master/_args_and_kwargs.ipynb\" target=\"_parent\"><img src=\"https://colab.research.google.com/assets/colab-badge.svg\" alt=\"Open In Colab\"/></a>"
      ]
    },
    {
      "cell_type": "markdown",
      "source": [
        "Reference Website : https://book.pythontips.com/en/latest/args_and_kwargs.html"
      ],
      "metadata": {
        "id": "5sDVwVsvnh73"
      }
    },
    {
      "cell_type": "markdown",
      "source": [
        "*args and **kwargs are mostly used in function definitions. *args and **kwargs allow you to pass an unspecified number of arguments to a function, so when writing the function definition, you do not need to know how many arguments will be passed to your function. "
      ],
      "metadata": {
        "id": "dgzYlIRGngNm"
      }
    },
    {
      "cell_type": "markdown",
      "source": [
        "# Usage of *args"
      ],
      "metadata": {
        "id": "DJ2H-_y5mAA8"
      }
    },
    {
      "cell_type": "code",
      "execution_count": 4,
      "metadata": {
        "id": "IUL0ELZ9l8QF"
      },
      "outputs": [],
      "source": [
        "def test_var_args_1(f_arg, *argv): # f_arg stores the 1st parameter value and *argv stores the remaining values\n",
        "    print(\"first normal arg:\", f_arg)\n",
        "    for arg in argv:\n",
        "        print(\"another arg through *argv:\", arg)"
      ]
    },
    {
      "cell_type": "code",
      "source": [
        "test_var_args_1('a', 'b', 'c', 'd')"
      ],
      "metadata": {
        "colab": {
          "base_uri": "https://localhost:8080/"
        },
        "id": "n7dHnFPwmE_9",
        "outputId": "f1e3a292-c63a-41db-acf8-4d6476c08746"
      },
      "execution_count": 5,
      "outputs": [
        {
          "output_type": "stream",
          "name": "stdout",
          "text": [
            "first normal arg: a\n",
            "another arg through *argv: b\n",
            "another arg through *argv: c\n",
            "another arg through *argv: d\n"
          ]
        }
      ]
    },
    {
      "cell_type": "code",
      "source": [
        "test_var_args_1(1, 2, 3, 4)"
      ],
      "metadata": {
        "colab": {
          "base_uri": "https://localhost:8080/"
        },
        "id": "glItSKgGmGsX",
        "outputId": "dd404970-2aef-4e45-bb5e-9e6bd93f5131"
      },
      "execution_count": 6,
      "outputs": [
        {
          "output_type": "stream",
          "name": "stdout",
          "text": [
            "first normal arg: 1\n",
            "another arg through *argv: 2\n",
            "another arg through *argv: 3\n",
            "another arg through *argv: 4\n"
          ]
        }
      ]
    },
    {
      "cell_type": "code",
      "source": [
        "def test_var_args_2(*args): # args includes all parameter values\n",
        "    for arg in args:\n",
        "        print(\"arg through *args:\", arg)"
      ],
      "metadata": {
        "id": "CEunbvBWmRlu"
      },
      "execution_count": 7,
      "outputs": []
    },
    {
      "cell_type": "code",
      "source": [
        "test_var_args_2('a', 'b', 'c', 'd')"
      ],
      "metadata": {
        "colab": {
          "base_uri": "https://localhost:8080/"
        },
        "id": "MCOceXWbnEQ-",
        "outputId": "6f0f3893-057a-48cc-e3b3-0511a05b9ee2"
      },
      "execution_count": 8,
      "outputs": [
        {
          "output_type": "stream",
          "name": "stdout",
          "text": [
            "arg through *args: a\n",
            "arg through *args: b\n",
            "arg through *args: c\n",
            "arg through *args: d\n"
          ]
        }
      ]
    },
    {
      "cell_type": "code",
      "source": [
        "test_var_args_2(1, 2, 3, 4)"
      ],
      "metadata": {
        "colab": {
          "base_uri": "https://localhost:8080/"
        },
        "id": "9NB_QZFznFVz",
        "outputId": "992f2816-e03f-4476-d705-ac43a9d2fdd0"
      },
      "execution_count": 9,
      "outputs": [
        {
          "output_type": "stream",
          "name": "stdout",
          "text": [
            "arg through *args: 1\n",
            "arg through *args: 2\n",
            "arg through *args: 3\n",
            "arg through *args: 4\n"
          ]
        }
      ]
    },
    {
      "cell_type": "markdown",
      "source": [
        "# Usage of **kwargs"
      ],
      "metadata": {
        "id": "njw5Iwq5mQ0o"
      }
    },
    {
      "cell_type": "code",
      "source": [
        "def test_kwargs_1(**kwargs): # kwargs.items() stores parameter keys and values\n",
        "    for key, value in kwargs.items():\n",
        "        print(\"{0} = {1}\".format(key, value))"
      ],
      "metadata": {
        "id": "AGVMFejBnHYN"
      },
      "execution_count": 10,
      "outputs": []
    },
    {
      "cell_type": "code",
      "source": [
        "test_kwargs_1(name1 = \"a\", name2 = \"b\", name3 = \"c\", name4 = \"d\")"
      ],
      "metadata": {
        "colab": {
          "base_uri": "https://localhost:8080/"
        },
        "id": "PceRO3tjog5r",
        "outputId": "e5d5a565-8589-4946-a0c9-c11998810465"
      },
      "execution_count": 11,
      "outputs": [
        {
          "output_type": "stream",
          "name": "stdout",
          "text": [
            "name1 = a\n",
            "name2 = b\n",
            "name3 = c\n",
            "name4 = d\n"
          ]
        }
      ]
    },
    {
      "cell_type": "code",
      "source": [
        "test_kwargs_1(name1 = 1, name2 = 2, name3 = 3, name4 = 4)"
      ],
      "metadata": {
        "colab": {
          "base_uri": "https://localhost:8080/"
        },
        "id": "6T4Xi3iJpVqQ",
        "outputId": "7eb726cc-cb57-4e0c-dca2-2838d0b7b366"
      },
      "execution_count": 12,
      "outputs": [
        {
          "output_type": "stream",
          "name": "stdout",
          "text": [
            "name1 = 1\n",
            "name2 = 2\n",
            "name3 = 3\n",
            "name4 = 4\n"
          ]
        }
      ]
    },
    {
      "cell_type": "markdown",
      "source": [
        "# Using *args and **kwargs to call a function"
      ],
      "metadata": {
        "id": "okpnKevAp_d5"
      }
    },
    {
      "cell_type": "code",
      "source": [
        "def test_args_kwargs(arg1, arg2, arg3):\n",
        "    print(\"arg1:\", arg1)\n",
        "    print(\"arg2:\", arg2)\n",
        "    print(\"arg3:\", arg3)"
      ],
      "metadata": {
        "id": "sK2DwIVVqABF"
      },
      "execution_count": 15,
      "outputs": []
    },
    {
      "cell_type": "code",
      "source": [
        "args = (\"two\", 3, 5)\n",
        "print('type(args) : ', type(args))\n",
        "test_args_kwargs(*args)"
      ],
      "metadata": {
        "colab": {
          "base_uri": "https://localhost:8080/"
        },
        "id": "RMso3yc-qAyn",
        "outputId": "f277e03d-b8d7-4fb8-ba60-4320f4427fc0"
      },
      "execution_count": 17,
      "outputs": [
        {
          "output_type": "stream",
          "name": "stdout",
          "text": [
            "type(args) :  <class 'tuple'>\n",
            "arg1: two\n",
            "arg2: 3\n",
            "arg3: 5\n"
          ]
        }
      ]
    },
    {
      "cell_type": "code",
      "source": [
        "kwargs = {\"arg3\": 3, \"arg2\": \"two\", \"arg1\": 5} # key name must be from function parameter name(arg1, arg2 or arg3)\n",
        "print('type(kwargs) : ', type(kwargs))\n",
        "test_args_kwargs(**kwargs)"
      ],
      "metadata": {
        "colab": {
          "base_uri": "https://localhost:8080/"
        },
        "id": "NKzQRnT9qAwt",
        "outputId": "eda4ea5c-cf11-4d4e-af83-eebb4302c0bd"
      },
      "execution_count": 18,
      "outputs": [
        {
          "output_type": "stream",
          "name": "stdout",
          "text": [
            "type(kwargs) :  <class 'dict'>\n",
            "arg1: 5\n",
            "arg2: two\n",
            "arg3: 3\n"
          ]
        }
      ]
    },
    {
      "cell_type": "code",
      "source": [
        "kwargs = {\"arg100\": 3, \"arg2\": \"two\", \"arg1\": 5} # key name must be from function parameter name(arg1, arg2 or arg3)\n",
        "print('type(kwargs) : ', type(kwargs))\n",
        "test_args_kwargs(**kwargs)"
      ],
      "metadata": {
        "colab": {
          "base_uri": "https://localhost:8080/",
          "height": 224
        },
        "id": "oVBlUg6yqAuO",
        "outputId": "9be867a2-83fa-48da-96db-18d2c6c97716"
      },
      "execution_count": 19,
      "outputs": [
        {
          "output_type": "stream",
          "name": "stdout",
          "text": [
            "type(kwargs) :  <class 'dict'>\n"
          ]
        },
        {
          "output_type": "error",
          "ename": "TypeError",
          "evalue": "ignored",
          "traceback": [
            "\u001b[0;31m---------------------------------------------------------------------------\u001b[0m",
            "\u001b[0;31mTypeError\u001b[0m                                 Traceback (most recent call last)",
            "\u001b[0;32m<ipython-input-19-c514721df4ee>\u001b[0m in \u001b[0;36m<module>\u001b[0;34m\u001b[0m\n\u001b[1;32m      1\u001b[0m \u001b[0mkwargs\u001b[0m \u001b[0;34m=\u001b[0m \u001b[0;34m{\u001b[0m\u001b[0;34m\"arg100\"\u001b[0m\u001b[0;34m:\u001b[0m \u001b[0;36m3\u001b[0m\u001b[0;34m,\u001b[0m \u001b[0;34m\"arg2\"\u001b[0m\u001b[0;34m:\u001b[0m \u001b[0;34m\"two\"\u001b[0m\u001b[0;34m,\u001b[0m \u001b[0;34m\"arg1\"\u001b[0m\u001b[0;34m:\u001b[0m \u001b[0;36m5\u001b[0m\u001b[0;34m}\u001b[0m\u001b[0;34m\u001b[0m\u001b[0;34m\u001b[0m\u001b[0m\n\u001b[1;32m      2\u001b[0m \u001b[0mprint\u001b[0m\u001b[0;34m(\u001b[0m\u001b[0;34m'type(kwargs) : '\u001b[0m\u001b[0;34m,\u001b[0m \u001b[0mtype\u001b[0m\u001b[0;34m(\u001b[0m\u001b[0mkwargs\u001b[0m\u001b[0;34m)\u001b[0m\u001b[0;34m)\u001b[0m\u001b[0;34m\u001b[0m\u001b[0;34m\u001b[0m\u001b[0m\n\u001b[0;32m----> 3\u001b[0;31m \u001b[0mtest_args_kwargs\u001b[0m\u001b[0;34m(\u001b[0m\u001b[0;34m**\u001b[0m\u001b[0mkwargs\u001b[0m\u001b[0;34m)\u001b[0m\u001b[0;34m\u001b[0m\u001b[0;34m\u001b[0m\u001b[0m\n\u001b[0m",
            "\u001b[0;31mTypeError\u001b[0m: test_args_kwargs() got an unexpected keyword argument 'arg100'"
          ]
        }
      ]
    },
    {
      "cell_type": "markdown",
      "source": [
        "# Order of using *args **kwargs and formal args"
      ],
      "metadata": {
        "id": "XprHaohOrI_J"
      }
    },
    {
      "cell_type": "code",
      "source": [
        "def some_func(fargs, *args, **kwargs):\n",
        "    print(\"formal args:\", fargs)\n",
        "\n",
        "    for arg in args:\n",
        "        print(\"arg through *args:\", arg)\n",
        "\n",
        "    for key, value in kwargs.items():\n",
        "        print(\"{0} = {1}\".format(key, value))    "
      ],
      "metadata": {
        "id": "23LVb4QQqArt"
      },
      "execution_count": 32,
      "outputs": []
    },
    {
      "cell_type": "code",
      "source": [
        "some_func(fargs = \"a\", name2 = \"b\", name3 = \"c\", name4 = \"d\")"
      ],
      "metadata": {
        "colab": {
          "base_uri": "https://localhost:8080/"
        },
        "id": "4PuNKMePqAot",
        "outputId": "0c9fbad3-3139-42f7-d527-1c8a05d505f1"
      },
      "execution_count": 35,
      "outputs": [
        {
          "output_type": "stream",
          "name": "stdout",
          "text": [
            "formal args: a\n",
            "name2 = b\n",
            "name3 = c\n",
            "name4 = d\n"
          ]
        }
      ]
    },
    {
      "cell_type": "code",
      "source": [
        "some_func(1, 2, 3, 4)"
      ],
      "metadata": {
        "colab": {
          "base_uri": "https://localhost:8080/"
        },
        "id": "t1ngNOYMqAWX",
        "outputId": "d05a25f8-3bc6-4e76-c31a-22e96c0b1bf3"
      },
      "execution_count": 34,
      "outputs": [
        {
          "output_type": "stream",
          "name": "stdout",
          "text": [
            "formal args: 1\n",
            "arg through *args: 2\n",
            "arg through *args: 3\n",
            "arg through *args: 4\n"
          ]
        }
      ]
    }
  ]
}